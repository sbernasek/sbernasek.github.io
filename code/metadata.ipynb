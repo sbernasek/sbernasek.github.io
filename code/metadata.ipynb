{
 "cells": [
  {
   "cell_type": "code",
   "execution_count": 1,
   "metadata": {},
   "outputs": [],
   "source": [
    "from glob import glob\n",
    "from os.path import join\n",
    "import pandas as pd\n",
    "\n",
    "from modules.metadata import PhotoMetadata\n",
    "\n",
    "photo_metadata_dirpath = '../../data/photo_metadata'\n",
    "photo_metadata_path = join(photo_metadata_dirpath, 'photo_metadata.hdf')\n",
    "\n",
    "%reload_ext autoreload\n",
    "%autoreload 2"
   ]
  },
  {
   "cell_type": "markdown",
   "metadata": {},
   "source": [
    "# Compile new metadata"
   ]
  },
  {
   "cell_type": "code",
   "execution_count": 2,
   "metadata": {},
   "outputs": [],
   "source": [
    "album_names = {\n",
    "    '2019_00_hwy1': 'CA Highway 1',\n",
    "    '2019_01_france': 'France',\n",
    "    '2019_02_italy': 'Italy',\n",
    "    '2019_03_england': 'England',\n",
    "    '2019_04_czech': 'Czech Republic',\n",
    "    '2019_05_germany': 'Germany',\n",
    "    '2019_06_austria': 'Austria',\n",
    "    '2019_07_slovenia': 'Slovenia',\n",
    "    '2019_08_croatia': 'Croatia',\n",
    "    '2019_09_spain': 'Spain',\n",
    "    '2019_10_morocco': 'Morocco',\n",
    "    '2019_11_italy': 'Italy 2',\n",
    "    '2020_01_home': 'Lake Tahoe',\n",
    "    '2020_02_desert': 'Palm Springs',\n",
    "    '2020_03_roadtrip': 'Rocky Mountains'\n",
    "}\n",
    "\n",
    "photo_library_path = '/Volumes/bernasek_t5/photos/lightroom/rendered'\n",
    "\n",
    "# build metadata\n",
    "metadata = PhotoMetadata(photo_metadata_path)\n",
    "for album_path in glob(join(photo_library_path, '*')):\n",
    "    album_key = album_path.split('/')[-1]\n",
    "    album_name = album_names[album_key]\n",
    "    metadata.add_album(album_path, album_name)\n",
    "metadata.save()"
   ]
  },
  {
   "cell_type": "markdown",
   "metadata": {},
   "source": [
    "# Load photo metadata"
   ]
  },
  {
   "cell_type": "code",
   "execution_count": 6,
   "metadata": {},
   "outputs": [],
   "source": [
    "# load photo metadata\n",
    "#metadata = PhotoMetadata(photo_metadata_path)"
   ]
  }
 ],
 "metadata": {
  "kernelspec": {
   "display_name": "web",
   "language": "python",
   "name": "web"
  },
  "language_info": {
   "codemirror_mode": {
    "name": "ipython",
    "version": 3
   },
   "file_extension": ".py",
   "mimetype": "text/x-python",
   "name": "python",
   "nbconvert_exporter": "python",
   "pygments_lexer": "ipython3",
   "version": "3.6.4"
  }
 },
 "nbformat": 4,
 "nbformat_minor": 4
}
