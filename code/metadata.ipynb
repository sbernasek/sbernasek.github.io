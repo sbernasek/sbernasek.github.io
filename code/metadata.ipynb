{
 "cells": [
  {
   "cell_type": "code",
   "execution_count": 1,
   "metadata": {},
   "outputs": [],
   "source": [
    "import numpy as np\n",
    "from glob import glob\n",
    "from os.path import join\n",
    "import pandas as pd\n",
    "\n",
    "from modules.metadata import PhotoMetadata\n",
    "\n",
    "photo_metadata_dirpath = '../../data/photo_metadata'\n",
    "photo_metadata_path = join(photo_metadata_dirpath, 'photo_metadata.hdf')\n",
    "\n",
    "%reload_ext autoreload\n",
    "%autoreload 2"
   ]
  },
  {
   "cell_type": "code",
   "execution_count": null,
   "metadata": {},
   "outputs": [],
   "source": [
    "# # QUERY GOOGLE PLACES API\n",
    "# responses = {}\n",
    "# for idx, gps in photos_with_gps.loc[missing.index][['latitude', 'longitude']].iterrows():\n",
    "#     response = gmaps.reverse_geocode(gps.values)\n",
    "#     img_path = photos_with_gps.loc[idx].path\n",
    "#     responses[img_path] = response    \n",
    "    \n",
    "# import json\n",
    "# with open(join(photo_metadata_dirpath, 'gmaps_results.json'), 'w') as file:\n",
    "#     json.dump(responses, file)"
   ]
  },
  {
   "cell_type": "markdown",
   "metadata": {},
   "source": [
    "# Compile new metadata"
   ]
  },
  {
   "cell_type": "code",
   "execution_count": 4,
   "metadata": {},
   "outputs": [
    {
     "name": "stderr",
     "output_type": "stream",
     "text": [
      "/Users/Sebi/.virtualenvs/web/lib/python3.6/site-packages/pandas/core/generic.py:2505: PerformanceWarning: \n",
      "your performance may suffer as PyTables will pickle object types that it cannot\n",
      "map directly to c-types [inferred_type->mixed,key->block1_values] [items->Index(['path', 'time_shot_utc', 'time_shot_local', 'time_rendered',\n",
      "       'geotagged', 'latitude', 'longitude'],\n",
      "      dtype='object')]\n",
      "\n",
      "  encoding=encoding,\n"
     ]
    }
   ],
   "source": [
    "album_names = {\n",
    "    '2019_00_hwy1': 'CA Highway 1',\n",
    "    '2019_01_france': 'France',\n",
    "    '2019_02_italy': 'Italy',\n",
    "    '2019_03_england': 'England',\n",
    "    '2019_04_czech': 'Czech Republic',\n",
    "    '2019_05_germany': 'Germany',\n",
    "    '2019_06_austria': 'Austria',\n",
    "    '2019_07_slovenia': 'Slovenia',\n",
    "    '2019_08_croatia': 'Croatia',\n",
    "    '2019_09_spain': 'Spain',\n",
    "    '2019_10_morocco': 'Morocco',\n",
    "    '2019_11_italy': 'Italy 2',\n",
    "    '2020_01_home': 'Northern California',\n",
    "    '2020_02_desert': 'Palm Springs',\n",
    "    '2020_03_roadtrip': 'Rocky Mountains'\n",
    "}\n",
    "\n",
    "photo_library_path = '/Volumes/bernasek_t5/photos/lightroom/rendered'\n",
    "\n",
    "# build metadata\n",
    "metadata = PhotoMetadata(photo_metadata_path)\n",
    "for album_path in glob(join(photo_library_path, '*')):\n",
    "    album_key = album_path.split('/')[-1]\n",
    "    album_name = album_names[album_key]\n",
    "    metadata.add_album(album_path, album_name)\n",
    "metadata.data.geotagged = metadata.data.geotagged.astype(bool)\n",
    "metadata.save()"
   ]
  },
  {
   "cell_type": "markdown",
   "metadata": {},
   "source": [
    "# Load photo metadata"
   ]
  },
  {
   "cell_type": "code",
   "execution_count": 6,
   "metadata": {},
   "outputs": [],
   "source": [
    "# load photo metadata\n",
    "#metadata = PhotoMetadata(photo_metadata_path)"
   ]
  },
  {
   "cell_type": "markdown",
   "metadata": {},
   "source": [
    "# Edit metadata"
   ]
  },
  {
   "cell_type": "code",
   "execution_count": 2,
   "metadata": {},
   "outputs": [],
   "source": [
    "metadata = PhotoMetadata(photo_metadata_path)"
   ]
  },
  {
   "cell_type": "code",
   "execution_count": 5,
   "metadata": {},
   "outputs": [],
   "source": [
    "paths = [\n",
    "    '/Volumes/bernasek_t5/photos/lightroom/rendered/2019_02_italy/IMG_0312.jpg',\n",
    "    '/Volumes/bernasek_t5/photos/lightroom/rendered/2019_02_italy/IMG_0325.jpg',\n",
    "    '/Volumes/bernasek_t5/photos/lightroom/rendered/2019_02_italy/IMG_0448.jpg']\n"
   ]
  },
  {
   "cell_type": "code",
   "execution_count": 41,
   "metadata": {},
   "outputs": [],
   "source": [
    "from modules.jpeg import JPEG_Metadata, NUM_API_CALLS\n",
    "\n",
    "path = paths[2]\n",
    "idx = metadata.data[metadata.data.path==path].index[0]\n",
    "md = JPEG_Metadata(path)"
   ]
  },
  {
   "cell_type": "code",
   "execution_count": 42,
   "metadata": {},
   "outputs": [],
   "source": [
    "#RECORD = md.to_record() # calls GOOGLE api\n",
    "metadata.data.loc[idx, 'latitude'] = RECORD['latitude']\n",
    "metadata.data.loc[idx, 'longitude'] = RECORD['longitude']\n",
    "metadata.data.loc[idx, 'timestamp'] = RECORD['timestamp']\n",
    "metadata.data.loc[idx, 'time_shot_utc'] = RECORD['time_shot_utc']"
   ]
  },
  {
   "cell_type": "code",
   "execution_count": 44,
   "metadata": {},
   "outputs": [
    {
     "name": "stderr",
     "output_type": "stream",
     "text": [
      "/Users/Sebi/.virtualenvs/web/lib/python3.6/site-packages/pandas/core/generic.py:2505: PerformanceWarning: \n",
      "your performance may suffer as PyTables will pickle object types that it cannot\n",
      "map directly to c-types [inferred_type->mixed,key->block0_values] [items->Index(['path', 'time_shot_utc', 'time_shot_local', 'time_rendered', 'latitude',\n",
      "       'longitude'],\n",
      "      dtype='object')]\n",
      "\n",
      "  encoding=encoding,\n"
     ]
    }
   ],
   "source": [
    "metadata.save()"
   ]
  }
 ],
 "metadata": {
  "kernelspec": {
   "display_name": "web",
   "language": "python",
   "name": "web"
  },
  "language_info": {
   "codemirror_mode": {
    "name": "ipython",
    "version": 3
   },
   "file_extension": ".py",
   "mimetype": "text/x-python",
   "name": "python",
   "nbconvert_exporter": "python",
   "pygments_lexer": "ipython3",
   "version": "3.6.4"
  }
 },
 "nbformat": 4,
 "nbformat_minor": 4
}
