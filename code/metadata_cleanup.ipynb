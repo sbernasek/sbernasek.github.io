{
 "cells": [
  {
   "cell_type": "code",
   "execution_count": 8,
   "metadata": {},
   "outputs": [],
   "source": [
    "from glob import glob\n",
    "from os.path import join\n",
    "import pandas as pd\n",
    "import matplotlib.pyplot as plt\n",
    "from datetime import datetime\n",
    "\n",
    "#from modules.imgur import Client\n",
    "\n",
    "photo_metadata_dirpath = '../../data/photo_metadata'\n",
    "photo_metadata_path = join(photo_metadata_dirpath, 'metadata.hdf')\n",
    "\n",
    "%reload_ext autoreload\n",
    "%autoreload 2"
   ]
  },
  {
   "cell_type": "code",
   "execution_count": 70,
   "metadata": {},
   "outputs": [],
   "source": [
    "metadata = pd.read_hdf(photo_metadata_path, 'data')"
   ]
  },
  {
   "cell_type": "code",
   "execution_count": 71,
   "metadata": {},
   "outputs": [],
   "source": [
    "keys = ['state', 'city', 'url', 'address', 'country']\n",
    "metadata = metadata.drop(keys, axis=1)\n",
    "\n",
    "metadata['time_shot_local'] = metadata.time_shot\n",
    "metadata = metadata.drop('time_shot', axis=1)\n",
    "\n",
    "lat,lon = list(zip(*metadata.gps.values))\n",
    "metadata['latitude'] = lat\n",
    "metadata['longitude'] = lon\n",
    "metadata = metadata.drop('gps', axis=1)\n",
    "\n",
    "for album_name in metadata.album.unique():\n",
    "    metadata['album'] = metadata.album.replace(album_name, ' '.join(album_name.split()[:-1]))\n",
    "    \n",
    "metadata['album'] = metadata.album.replace('Italy v2', 'Italy 2')\n",
    "metadata['album'] = metadata.album.replace('Home', 'Tahoe')\n",
    "metadata['album'] = metadata.album.replace('Desert', 'Palm Springs')\n",
    "metadata['album'] = metadata.album.replace('Czech', 'Czech Republic')\n",
    "metadata['album'] = metadata.album.replace('Roadtrip', 'Rocky Mountains')\n",
    "\n",
    "metadata['source'] = metadata['model']\n",
    "metadata = metadata.drop('model', axis=1)\n",
    "\n",
    "metadata['imgur_album_hash'] = metadata['album_hash']\n",
    "metadata = metadata.drop('album_hash', axis=1)\n",
    "\n",
    "metadata['time_shot_pst'] = metadata['time_shot_pacific']\n",
    "metadata = metadata.drop('time_shot_pacific', axis=1)\n",
    "\n",
    "columns = ['source', 'filename', 'album', \n",
    "    'path', 'album_path',\n",
    "    'imgur_id', 'imgur_link', 'imgur_album_hash', \n",
    "    'time_shot_pst', 'time_shot_local', 'time_rendered',\n",
    "    'geotagged', 'latitude', 'longitude']\n",
    "metadata = metadata.loc[:, columns]\n",
    "metadata = metadata.sort_values(by='time_shot_pst')"
   ]
  },
  {
   "cell_type": "code",
   "execution_count": 96,
   "metadata": {},
   "outputs": [
    {
     "name": "stderr",
     "output_type": "stream",
     "text": [
      "/Users/Sebi/.virtualenvs/web/lib/python3.6/site-packages/pandas/core/generic.py:2505: PerformanceWarning: \n",
      "your performance may suffer as PyTables will pickle object types that it cannot\n",
      "map directly to c-types [inferred_type->mixed,key->block0_values] [items->Index(['source', 'filename', 'album', 'path', 'album_path', 'imgur_id',\n",
      "       'imgur_link', 'imgur_album_hash', 'time_shot_pst', 'time_shot_local',\n",
      "       'time_rendered', 'latitude', 'longitude'],\n",
      "      dtype='object')]\n",
      "\n",
      "  encoding=encoding,\n"
     ]
    }
   ],
   "source": [
    "metadata.to_hdf(photo_metadata_path, 'data')"
   ]
  }
 ],
 "metadata": {
  "kernelspec": {
   "display_name": "web",
   "language": "python",
   "name": "web"
  },
  "language_info": {
   "codemirror_mode": {
    "name": "ipython",
    "version": 3
   },
   "file_extension": ".py",
   "mimetype": "text/x-python",
   "name": "python",
   "nbconvert_exporter": "python",
   "pygments_lexer": "ipython3",
   "version": "3.6.4"
  }
 },
 "nbformat": 4,
 "nbformat_minor": 2
}
