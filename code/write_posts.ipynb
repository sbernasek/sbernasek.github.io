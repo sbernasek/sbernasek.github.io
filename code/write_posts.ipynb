{
 "cells": [
  {
   "cell_type": "code",
   "execution_count": 1,
   "metadata": {},
   "outputs": [],
   "source": [
    "from glob import glob\n",
    "from os.path import join\n",
    "import pandas as pd\n",
    "\n",
    "from templating.post import Post\n",
    "\n",
    "location_data_path = '../../data/locations/'\n",
    "photo_metadata_dirpath = '../../data/photo_metadata'\n",
    "photo_metadata_path = join(photo_metadata_dirpath, 'metadata.hdf')\n",
    "\n",
    "%reload_ext autoreload\n",
    "%autoreload 2"
   ]
  },
  {
   "cell_type": "code",
   "execution_count": 2,
   "metadata": {},
   "outputs": [],
   "source": [
    "# load metadata\n",
    "metadata = pd.read_hdf(photo_metadata_path, 'data')\n",
    "metadata = metadata.sort_values('timestamp')"
   ]
  },
  {
   "cell_type": "code",
   "execution_count": 3,
   "metadata": {},
   "outputs": [],
   "source": [
    "# set index\n",
    "INDEX = ['album', 'filename', 'source']\n",
    "metadata = metadata.set_index(INDEX)"
   ]
  },
  {
   "cell_type": "code",
   "execution_count": 4,
   "metadata": {},
   "outputs": [
    {
     "name": "stderr",
     "output_type": "stream",
     "text": [
      "/Users/Sebi/.virtualenvs/web/lib/python3.6/site-packages/IPython/core/interactiveshell.py:2858: PerformanceWarning: indexing past lexsort depth may impact performance.\n",
      "  raw_cell, store_history, silent, shell_futures)\n"
     ]
    }
   ],
   "source": [
    "# append GPS data\n",
    "photo_gps_path = join(photo_metadata_dirpath, 'photo_gps.hdf')\n",
    "photo_gps = pd.read_hdf(photo_gps_path, 'data')\n",
    "\n",
    "# assign latitude/longitude\n",
    "metadata = metadata.join(photo_gps, on='timestamp', lsuffix='_native', rsuffix='_ping')\n",
    "metadata['latitude'] = metadata.latitude_native.fillna(metadata.latitude_ping)\n",
    "metadata['longitude'] = metadata.longitude_native.fillna(metadata.longitude_ping)\n",
    "\n",
    "# exclude unreliable pings\n",
    "max_dt_ping = 3600/8 # 15 minutes\n",
    "no_gps_data = (~metadata.geotagged & (metadata.dt_ping >= max_dt_ping))\n",
    "metadata.loc[no_gps_data, ['latitude', 'longitude']] = float('nan')"
   ]
  },
  {
   "cell_type": "code",
   "execution_count": 5,
   "metadata": {},
   "outputs": [],
   "source": [
    "# load manually-curated captions\n",
    "user_captions_path = join(photo_metadata_dirpath, 'user_captions.xlsx')\n",
    "user_captions = pd.read_excel(user_captions_path)\n",
    "user_captions = user_captions.set_index(INDEX)\n",
    "metadata = metadata.join(user_captions)"
   ]
  },
  {
   "cell_type": "code",
   "execution_count": 6,
   "metadata": {},
   "outputs": [],
   "source": [
    "# load ping-based location data\n",
    "photo_locations = pd.read_hdf(join(photo_metadata_dirpath, 'photo_locations.hdf'), 'data')\n",
    "photo_locations = photo_locations.set_index(INDEX)\n",
    "metadata = metadata.join(photo_locations, how='left', rsuffix='_auto')\n",
    "metadata['caption'] = metadata.caption.fillna(metadata.caption_auto)"
   ]
  },
  {
   "cell_type": "code",
   "execution_count": 7,
   "metadata": {},
   "outputs": [],
   "source": [
    "# load manually-curated location data\n",
    "user_locations_path = join(photo_metadata_dirpath, 'user_gps.xlsx')\n",
    "user_locations = pd.read_excel(user_locations_path)\n",
    "user_locations = user_locations.set_index(INDEX)\n",
    "metadata = metadata.fillna(user_locations[['city', 'country', 'latitude', 'longitude']])"
   ]
  },
  {
   "cell_type": "code",
   "execution_count": 8,
   "metadata": {},
   "outputs": [],
   "source": [
    "# load manually-excluded photos\n",
    "user_exclusions_path = join(photo_metadata_dirpath, 'user_hidden_photos.xlsx')\n",
    "user_exclusions = pd.read_excel(user_exclusions_path)\n",
    "exclusions = user_exclusions.set_index(INDEX)\n",
    "metadata = metadata.drop(index=exclusions.index)"
   ]
  },
  {
   "cell_type": "code",
   "execution_count": null,
   "metadata": {},
   "outputs": [],
   "source": []
  },
  {
   "cell_type": "code",
   "execution_count": null,
   "metadata": {},
   "outputs": [],
   "source": []
  },
  {
   "cell_type": "code",
   "execution_count": 19,
   "metadata": {},
   "outputs": [],
   "source": [
    "class Writer:\n",
    "    \n",
    "    titles = {\n",
    "        'Spain': 'Catalonia'\n",
    "    }\n",
    "    \n",
    "    covers = {'Germany': 'https://i.imgur.com/rbmZHXf.jpg',\n",
    "         'Italy': 'https://i.imgur.com/XZ6Lz5l.jpg',\n",
    "         'Czech Republic': 'https://i.imgur.com/2DB7yPR.jpg',\n",
    "         'Slovenia': 'https://i.imgur.com/G2GzEPJ.jpg',\n",
    "         'Palm Springs': 'https://i.imgur.com/fdcEkox.jpg',\n",
    "         'Spain': 'https://i.imgur.com/DANYgWx.jpg',\n",
    "         'Morocco': 'https://i.imgur.com/YTDqFPU.jpg',\n",
    "         'Croatia': 'https://i.imgur.com/xvwSpqZ.jpg',\n",
    "         'Austria': 'https://i.imgur.com/ZkyFsMM.jpg',\n",
    "         'Italy 2': 'https://i.imgur.com/tPViG2v.jpg',\n",
    "         'France': 'https://i.imgur.com/5Usf1GT.jpg',\n",
    "         'England': 'https://i.imgur.com/HfAchQr.jpg',\n",
    "         'Tahoe': 'https://i.imgur.com/WDecwZB.jpg',\n",
    "         'Rocky Mountains': 'https://i.imgur.com/s8pTyWx.jpg'}\n",
    "    \n",
    "    def __init__(self, posts):\n",
    "        self.posts = posts\n",
    "\n",
    "    @staticmethod\n",
    "    def datetime_to_str(ts, fmt='%Y:%m:%d %H:%M:%S'):\n",
    "        return ts.strftime(fmt)\n",
    "    \n",
    "    @property\n",
    "    def post_order(self):\n",
    "        mean_timestamps = self.posts.groupby('album')['timestamp'].aggregate(lambda x: x.mean())\n",
    "        return mean_timestamps.sort_values()\n",
    "        \n",
    "    def write_post(self, album, date='2020-01-01', cover=None):\n",
    "        name_str = '-'.join([x.lower() for x in album.split()])\n",
    "        filename = '{:s}-{:s}'.format(date, name_str)\n",
    "        \n",
    "        if album in self.titles.keys():\n",
    "            title = self.titles[album]\n",
    "        else:\n",
    "            title = album\n",
    "        \n",
    "        records = self.posts.loc[album].sort_values(by='timestamp')\n",
    "        post = Post(filename, title, records, cover=cover)\n",
    "        post.write()\n",
    "        \n",
    "    def write(self):        \n",
    "        for album, timestamp in self.post_order.iteritems():\n",
    "            date, time = self.datetime_to_str(timestamp).split()\n",
    "            self.write_post(album, date=date.replace(':', '-'), cover=self.covers[album])\n",
    "        "
   ]
  },
  {
   "cell_type": "code",
   "execution_count": 20,
   "metadata": {},
   "outputs": [],
   "source": [
    "writer = Writer(metadata)\n",
    "writer.write()"
   ]
  },
  {
   "cell_type": "code",
   "execution_count": null,
   "metadata": {},
   "outputs": [],
   "source": []
  }
 ],
 "metadata": {
  "kernelspec": {
   "display_name": "web",
   "language": "python",
   "name": "web"
  },
  "language_info": {
   "codemirror_mode": {
    "name": "ipython",
    "version": 3
   },
   "file_extension": ".py",
   "mimetype": "text/x-python",
   "name": "python",
   "nbconvert_exporter": "python",
   "pygments_lexer": "ipython3",
   "version": "3.6.4"
  }
 },
 "nbformat": 4,
 "nbformat_minor": 2
}
