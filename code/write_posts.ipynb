{
 "cells": [
  {
   "cell_type": "code",
   "execution_count": 1,
   "metadata": {},
   "outputs": [],
   "source": [
    "from glob import glob\n",
    "from os.path import join\n",
    "import pandas as pd\n",
    "\n",
    "from modules.imgur import Client\n",
    "from templating.post import Post\n",
    "\n",
    "%reload_ext autoreload\n",
    "%autoreload 2"
   ]
  },
  {
   "cell_type": "code",
   "execution_count": 20,
   "metadata": {},
   "outputs": [],
   "source": [
    "metadata = pd.read_hdf(Client.metadata_path, 'data')\n",
    "metadata = metadata.set_index(['album', 'filename'])\n",
    "metadata = metadata.sort_values('time_shot')"
   ]
  },
  {
   "cell_type": "code",
   "execution_count": 21,
   "metadata": {},
   "outputs": [],
   "source": [
    "def write_post(title, date='2020-04-04'):\n",
    "    name_str = '-'.join([x.strip('()').lower() for x in title.split()[:-1]])\n",
    "    filename = '{:s}-{:s}'.format(date, name_str)\n",
    "    album = metadata.loc[title].sort_values(by='time_shot')\n",
    "    post = Post(filename, title, album)\n",
    "    post.write()"
   ]
  },
  {
   "cell_type": "code",
   "execution_count": 38,
   "metadata": {},
   "outputs": [],
   "source": [
    "for idx, title in enumerate(metadata.index.get_level_values('album').unique()):\n",
    "    date = '2000-01-{0:02d}'.format(idx+1)\n",
    "    write_post(title, date=date)"
   ]
  },
  {
   "cell_type": "code",
   "execution_count": null,
   "metadata": {},
   "outputs": [],
   "source": []
  }
 ],
 "metadata": {
  "kernelspec": {
   "display_name": "web",
   "language": "python",
   "name": "web"
  },
  "language_info": {
   "codemirror_mode": {
    "name": "ipython",
    "version": 3
   },
   "file_extension": ".py",
   "mimetype": "text/x-python",
   "name": "python",
   "nbconvert_exporter": "python",
   "pygments_lexer": "ipython3",
   "version": "3.6.4"
  }
 },
 "nbformat": 4,
 "nbformat_minor": 2
}
