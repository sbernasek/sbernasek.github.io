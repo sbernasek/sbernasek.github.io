{
 "cells": [
  {
   "cell_type": "code",
   "execution_count": 2,
   "metadata": {},
   "outputs": [],
   "source": [
    "from glob import glob\n",
    "from os.path import join\n",
    "\n",
    "from modules.imgur import Client\n",
    "\n",
    "metadata_dirpath = '../../data'\n",
    "photo_metadata_dirpath = '../../data/photo_metadata'\n",
    "\n",
    "%reload_ext autoreload\n",
    "%autoreload 2"
   ]
  },
  {
   "cell_type": "code",
   "execution_count": null,
   "metadata": {},
   "outputs": [],
   "source": [
    "\n"
   ]
  },
  {
   "cell_type": "code",
   "execution_count": 6,
   "metadata": {},
   "outputs": [],
   "source": [
    "import json\n",
    "with open(join(metadata_dirpath, 'imgur_api.json'), 'r') as file:\n",
    "    api_keys = json.load(file)"
   ]
  },
  {
   "cell_type": "code",
   "execution_count": null,
   "metadata": {},
   "outputs": [],
   "source": []
  },
  {
   "cell_type": "code",
   "execution_count": null,
   "metadata": {},
   "outputs": [],
   "source": []
  },
  {
   "cell_type": "code",
   "execution_count": 8,
   "metadata": {},
   "outputs": [],
   "source": [
    "from imgurpython import ImgurClient"
   ]
  },
  {
   "cell_type": "code",
   "execution_count": null,
   "metadata": {},
   "outputs": [],
   "source": []
  },
  {
   "cell_type": "code",
   "execution_count": 13,
   "metadata": {},
   "outputs": [],
   "source": [
    "api_client = ImgurClient(api_keys['CLIENT_ID'], api_keys['CLIENT_SECRET'])"
   ]
  },
  {
   "cell_type": "code",
   "execution_count": 14,
   "metadata": {},
   "outputs": [
    {
     "data": {
      "text/plain": [
       "<imgurpython.client.ImgurClient at 0x1158de518>"
      ]
     },
     "execution_count": 14,
     "metadata": {},
     "output_type": "execute_result"
    }
   ],
   "source": [
    "api_client.g"
   ]
  },
  {
   "cell_type": "code",
   "execution_count": null,
   "metadata": {},
   "outputs": [],
   "source": []
  },
  {
   "cell_type": "code",
   "execution_count": null,
   "metadata": {},
   "outputs": [],
   "source": []
  },
  {
   "cell_type": "markdown",
   "metadata": {},
   "source": [
    "# Imgur authorization"
   ]
  },
  {
   "cell_type": "code",
   "execution_count": null,
   "metadata": {},
   "outputs": [],
   "source": [
    "# generate access token (query in browser to get access token)\n",
    "#client = Client(CLIENT_ID, CLIENT_SECRET)\n",
    "#token = client.get_auth_url('token')"
   ]
  },
  {
   "cell_type": "code",
   "execution_count": 2,
   "metadata": {},
   "outputs": [],
   "source": [
    "#client.set_user_auth(params['access_token'], params['refresh_token'])\n",
    "\n",
    "client = Client(CLIENT_ID, CLIENT_SECRET, ACCESS_TOKEN, REFRESH_TOKEN)"
   ]
  },
  {
   "cell_type": "markdown",
   "metadata": {},
   "source": [
    "# Upload album"
   ]
  },
  {
   "cell_type": "code",
   "execution_count": 4,
   "metadata": {},
   "outputs": [
    {
     "name": "stdout",
     "output_type": "stream",
     "text": [
      "Album: England (2019)\n",
      "Rate limit exceeded on Image #0\n"
     ]
    }
   ],
   "source": [
    "album_title = 'England (2019)'\n",
    "album_path = '/Volumes/bernasek_t5/photos/lightroom/rendered/2019_03_england'\n",
    "\n",
    "client.upload_album(album_path, album_title, delay=30)"
   ]
  },
  {
   "cell_type": "code",
   "execution_count": 3,
   "metadata": {},
   "outputs": [
    {
     "data": {
      "text/plain": [
       "['/Volumes/bernasek_t5/photos/lightroom/rendered/2019_02_italy',\n",
       " '/Volumes/bernasek_t5/photos/lightroom/rendered/2019_01_france',\n",
       " '/Volumes/bernasek_t5/photos/lightroom/rendered/2019_03_england',\n",
       " '/Volumes/bernasek_t5/photos/lightroom/rendered/2019_04_czech',\n",
       " '/Volumes/bernasek_t5/photos/lightroom/rendered/2019_05_germany',\n",
       " '/Volumes/bernasek_t5/photos/lightroom/rendered/2019_06_austria',\n",
       " '/Volumes/bernasek_t5/photos/lightroom/rendered/2019_07_slovenia',\n",
       " '/Volumes/bernasek_t5/photos/lightroom/rendered/2019_08_croatia',\n",
       " '/Volumes/bernasek_t5/photos/lightroom/rendered/2019_09_spain',\n",
       " '/Volumes/bernasek_t5/photos/lightroom/rendered/2019_10_morocco',\n",
       " '/Volumes/bernasek_t5/photos/lightroom/rendered/2019_11_italy',\n",
       " '/Volumes/bernasek_t5/photos/lightroom/rendered/2020_01_home',\n",
       " '/Volumes/bernasek_t5/photos/lightroom/rendered/2020_02_desert',\n",
       " '/Volumes/bernasek_t5/photos/lightroom/rendered/2020_03_roadtrip']"
      ]
     },
     "execution_count": 3,
     "metadata": {},
     "output_type": "execute_result"
    }
   ],
   "source": [
    "album_paths = glob('/Volumes/bernasek_t5/photos/lightroom/rendered/*')\n",
    "album_paths"
   ]
  },
  {
   "cell_type": "code",
   "execution_count": 4,
   "metadata": {},
   "outputs": [
    {
     "name": "stdout",
     "output_type": "stream",
     "text": [
      "Starting Italy (2019)\n",
      "Completed Italy (2019) in 0.02 s\n",
      "Starting France (2019)\n",
      "Completed France (2019) in 0.01 s\n",
      "Starting England (2019)\n",
      "Completed England (2019) in 0.02 s\n",
      "Starting Czech (2019)\n",
      "Completed Czech (2019) in 0.01 s\n",
      "Starting Germany (2019)\n",
      "Completed Germany (2019) in 0.02 s\n",
      "Starting Austria (2019)\n",
      "Completed Austria (2019) in 0.01 s\n",
      "Starting Slovenia (2019)\n",
      "Completed Slovenia (2019) in 0.01 s\n",
      "Starting Croatia (2019)\n"
     ]
    },
    {
     "name": "stderr",
     "output_type": "stream",
     "text": [
      "/Users/Sebi/.virtualenvs/playground/lib/python3.6/site-packages/pandas/core/generic.py:2530: PerformanceWarning: \n",
      "your performance may suffer as PyTables will pickle object types that it cannot\n",
      "map directly to c-types [inferred_type->mixed,key->block0_values] [items->['path', 'filename', 'time_shot', 'time_rendered', 'gps', 'model', 'album', 'album_path', 'album_hash', 'imgur_link', 'imgur_id']]\n",
      "\n",
      "  pytables.to_hdf(path_or_buf, key, self, **kwargs)\n"
     ]
    },
    {
     "name": "stdout",
     "output_type": "stream",
     "text": [
      "8/35 complete\n",
      "9/35 complete\n",
      "10/35 complete\n",
      "11/35 complete\n",
      "12/35 complete\n",
      "13/35 complete\n",
      "14/35 complete\n",
      "15/35 complete\n",
      "16/35 complete\n",
      "17/35 complete\n",
      "18/35 complete\n",
      "19/35 complete\n",
      "20/35 complete\n",
      "21/35 complete\n",
      "22/35 complete\n",
      "23/35 complete\n",
      "24/35 complete\n",
      "25/35 complete\n",
      "26/35 complete\n",
      "27/35 complete\n",
      "28/35 complete\n",
      "29/35 complete\n",
      "30/35 complete\n",
      "31/35 complete\n",
      "32/35 complete\n",
      "33/35 complete\n",
      "34/35 complete\n",
      "35/35 complete\n",
      "Completed Croatia (2019) in 1733.98 s\n",
      "Starting Spain (2019)\n",
      "Completed Spain (2019) in 0.02 s\n",
      "Starting Morocco (2019)\n",
      "25/52 complete\n",
      "26/52 complete\n",
      "27/52 complete\n",
      "28/52 complete\n",
      "29/52 complete\n",
      "30/52 complete\n",
      "31/52 complete\n",
      "32/52 complete\n",
      "33/52 complete\n",
      "34/52 complete\n",
      "35/52 complete\n",
      "36/52 complete\n",
      "37/52 complete\n",
      "38/52 complete\n",
      "39/52 complete\n",
      "40/52 complete\n",
      "41/52 complete\n",
      "42/52 complete\n",
      "43/52 complete\n",
      "44/52 complete\n",
      "45/52 complete\n",
      "46/52 complete\n",
      "Album: Morocco (2019)\n",
      "Rate limit exceeded on Image #46\n",
      "47/52 complete\n",
      "48/52 complete\n",
      "49/52 complete\n",
      "50/52 complete\n",
      "51/52 complete\n",
      "52/52 complete\n",
      "Completed Morocco (2019) in 3593.76 s\n",
      "Starting Italy v2 (2019)\n",
      "Completed Italy v2 (2019) in 0.02 s\n",
      "Starting Home (2020)\n",
      "Completed Home (2020) in 0.01 s\n",
      "Starting Desert (2020)\n",
      "9/9 complete\n",
      "Completed Desert (2020) in 61.89 s\n",
      "Starting Roadtrip (2020)\n",
      "1/47 complete\n",
      "2/47 complete\n",
      "3/47 complete\n",
      "4/47 complete\n",
      "5/47 complete\n",
      "6/47 complete\n",
      "7/47 complete\n",
      "8/47 complete\n",
      "9/47 complete\n",
      "10/47 complete\n",
      "11/47 complete\n",
      "12/47 complete\n",
      "13/47 complete\n",
      "14/47 complete\n",
      "15/47 complete\n",
      "16/47 complete\n",
      "17/47 complete\n",
      "18/47 complete\n",
      "19/47 complete\n",
      "20/47 complete\n",
      "21/47 complete\n",
      "22/47 complete\n",
      "23/47 complete\n",
      "24/47 complete\n",
      "25/47 complete\n",
      "26/47 complete\n",
      "27/47 complete\n",
      "28/47 complete\n",
      "29/47 complete\n",
      "30/47 complete\n",
      "31/47 complete\n",
      "32/47 complete\n",
      "33/47 complete\n",
      "34/47 complete\n",
      "35/47 complete\n",
      "36/47 complete\n",
      "37/47 complete\n",
      "38/47 complete\n",
      "39/47 complete\n",
      "40/47 complete\n",
      "41/47 complete\n",
      "42/47 complete\n",
      "43/47 complete\n",
      "44/47 complete\n",
      "45/47 complete\n",
      "46/47 complete\n",
      "47/47 complete\n",
      "Completed Roadtrip (2020) in 30442.51 s\n"
     ]
    }
   ],
   "source": [
    "from glob import glob\n",
    "from os.path import join\n",
    "from time import time\n",
    "\n",
    "for album_path in album_paths:\n",
    "    yr, idx, name = album_path.split('/')[-1].split('_')\n",
    "    album_title = '{:s} ({:d})'.format(name.title(), int(yr))\n",
    "            \n",
    "    if int(idx) == 11 and 'Italy' in album_title:\n",
    "        album_title = album_title.replace(' ', ' v2 ')\n",
    "    \n",
    "    start = time()\n",
    "    print('Starting {:s}'.format(album_title))\n",
    "    client.upload_album(album_path, album_title, delay=60)\n",
    "    stop = time()\n",
    "    print('Completed {:s} in {:0.2f} s'.format(album_title, stop-start))"
   ]
  },
  {
   "cell_type": "code",
   "execution_count": 5,
   "metadata": {},
   "outputs": [],
   "source": [
    "client.metadata.to_hdf(client.metadata_path, key='data')"
   ]
  },
  {
   "cell_type": "code",
   "execution_count": null,
   "metadata": {},
   "outputs": [],
   "source": []
  },
  {
   "cell_type": "code",
   "execution_count": null,
   "metadata": {},
   "outputs": [],
   "source": []
  }
 ],
 "metadata": {
  "kernelspec": {
   "display_name": "web",
   "language": "python",
   "name": "web"
  },
  "language_info": {
   "codemirror_mode": {
    "name": "ipython",
    "version": 3
   },
   "file_extension": ".py",
   "mimetype": "text/x-python",
   "name": "python",
   "nbconvert_exporter": "python",
   "pygments_lexer": "ipython3",
   "version": "3.6.4"
  }
 },
 "nbformat": 4,
 "nbformat_minor": 2
}
