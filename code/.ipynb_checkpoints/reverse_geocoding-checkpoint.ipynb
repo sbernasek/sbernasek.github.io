{
 "cells": [
  {
   "cell_type": "code",
   "execution_count": 9,
   "metadata": {},
   "outputs": [],
   "source": [
    "from glob import glob\n",
    "from os.path import join\n",
    "import numpy as np\n",
    "import pandas as pd\n",
    "import matplotlib.pyplot as plt\n",
    "from datetime import datetime\n",
    "\n",
    "from modules.metadata import PhotoMetadata\n",
    "from modules.utilities import str_to_datetime\n",
    "\n",
    "location_data_dirpath = '../../data/locations/'\n",
    "semantic_locations_path = join(location_data_dirpath, 'semantic_locations.hdf')\n",
    "\n",
    "pings_data_path = join(location_data_dirpath, 'pings.hdf')\n",
    "photo_metadata_dirpath = '../../data/photo_metadata'\n",
    "photo_metadata_path = join(photo_metadata_dirpath, 'photo_metadata.hdf')\n",
    "photo_gps_path = join(photo_metadata_dirpath, 'photo_gps.hdf')\n",
    "photo_semantic_locations_path = join(photo_metadata_dirpath, 'photo_semantic_locations.hdf')\n",
    "\n",
    "%reload_ext autoreload\n",
    "%autoreload 2"
   ]
  },
  {
   "cell_type": "code",
   "execution_count": 10,
   "metadata": {},
   "outputs": [],
   "source": [
    "# load metadata\n",
    "photo_metadata = PhotoMetadata(photo_metadata_path)\n",
    "\n",
    "# load ping data\n",
    "pings = pd.read_hdf(pings_data_path, 'data')\n",
    "\n",
    "# load locations\n",
    "semantic_locations = pd.read_hdf(semantic_locations_path, 'data')"
   ]
  },
  {
   "cell_type": "markdown",
   "metadata": {},
   "source": [
    "# Compile Photo GPS from nearest ping"
   ]
  },
  {
   "cell_type": "code",
   "execution_count": 11,
   "metadata": {},
   "outputs": [],
   "source": [
    "def compute_timedelta(series, time_column):\n",
    "    dt = (series.index - series[time_column])\n",
    "    return dt.apply(lambda x: abs(x.total_seconds()))"
   ]
  },
  {
   "cell_type": "code",
   "execution_count": 12,
   "metadata": {},
   "outputs": [],
   "source": [
    "photo_metadata.data = photo_metadata.data.sort_values('timestamp')"
   ]
  },
  {
   "cell_type": "code",
   "execution_count": 13,
   "metadata": {},
   "outputs": [],
   "source": [
    "min_ping_accuracy = 100 # meters\n",
    "\n",
    "# load pings and filter by accuracy\n",
    "pings = pings[~pings.index.duplicated()]\n",
    "pings['time_ping'] = pings.index\n",
    "pings = pings[pings.accuracy < min_ping_accuracy]\n",
    "\n",
    "# match photos with nearest ping\n",
    "photo_times = photo_metadata.data.timestamp\n",
    "columns_without_altitude = ['latitude', 'longitude', 'accuracy', 'owner', 'time_ping']\n",
    "photo_gps = pd.merge_asof(photo_times, pings[columns_without_altitude], left_on='timestamp', right_index=True, direction='nearest')\n",
    "photo_gps = photo_gps.set_index('timestamp')\n",
    "photo_gps['dt_ping'] = compute_timedelta(photo_gps, 'time_ping')"
   ]
  },
  {
   "cell_type": "code",
   "execution_count": 14,
   "metadata": {},
   "outputs": [
    {
     "data": {
      "text/plain": [
       "2596.5315999999993"
      ]
     },
     "execution_count": 14,
     "metadata": {},
     "output_type": "execute_result"
    }
   ],
   "source": [
    "np.percentile(photo_gps.dt_ping, 90)"
   ]
  },
  {
   "cell_type": "code",
   "execution_count": 15,
   "metadata": {},
   "outputs": [
    {
     "data": {
      "text/plain": [
       "Text(0, 0.5, 'Num. photos')"
      ]
     },
     "execution_count": 15,
     "metadata": {},
     "output_type": "execute_result"
    },
    {
     "data": {
      "image/png": "[encoded data removed]",
      "text/plain": [
       "<Figure size 288x216 with 1 Axes>"
      ]
     },
     "metadata": {
      "needs_background": "light"
     },
     "output_type": "display_data"
    }
   ],
   "source": [
    "fig, ax = plt.subplots(figsize=(4, 3))\n",
    "bins = np.linspace(0, 3600*2, 24)\n",
    "_ = ax.hist(photo_gps.dt_ping, bins=bins, color='b', alpha=0.5)\n",
    "ax.set_xlabel('Time to nearest ping')\n",
    "ax.set_ylabel('Num. photos')"
   ]
  },
  {
   "cell_type": "code",
   "execution_count": 8,
   "metadata": {},
   "outputs": [],
   "source": [
    "# save photo gps\n",
    "photo_gps.to_hdf(join(photo_metadata_dirpath, 'photo_gps.hdf'), 'data')"
   ]
  },
  {
   "cell_type": "markdown",
   "metadata": {},
   "source": [
    "# Match semantic locations"
   ]
  },
  {
   "cell_type": "code",
   "execution_count": 16,
   "metadata": {},
   "outputs": [],
   "source": [
    "from scipy import spatial\n",
    "import numpy as np\n",
    "\n",
    "from modules.utilities import haversine\n",
    "\n",
    "def locate_photos(photo_positions, semantic_locations):\n",
    "    location_positions = semantic_locations[['latitude', 'longitude']].values\n",
    "    tree = spatial.KDTree(location_positions)\n",
    "    _, idxs = tree.query(photo_positions, p=1)\n",
    "    distances = np.array([haversine(p1, p2) for p1, p2 in zip(photo_positions, location_positions[idxs])])   \n",
    "    return distances, idxs\n",
    "\n",
    "def build_caption(record):\n",
    "    \n",
    "    max_distance_for_name = 0.5\n",
    "    max_distance_for_city = 5\n",
    "    \n",
    "    if record.distance_to_semantic >= max_distance_for_city:\n",
    "        return None\n",
    "    \n",
    "    elif record.distance_to_semantic >= max_distance_for_name or type(record['name']) != str:\n",
    "        return record.location_str\n",
    "    \n",
    "    else:        \n",
    "        name = record['name'].title()\n",
    "        return '{:s} - {:s}'.format(name, record.location_str)    "
   ]
  },
  {
   "cell_type": "markdown",
   "metadata": {},
   "source": [
    "### Select photos with reliable GPS"
   ]
  },
  {
   "cell_type": "code",
   "execution_count": 17,
   "metadata": {},
   "outputs": [
    {
     "name": "stderr",
     "output_type": "stream",
     "text": [
      "/Users/Sebi/.virtualenvs/web/lib/python3.6/site-packages/IPython/core/interactiveshell.py:2858: PerformanceWarning: indexing past lexsort depth may impact performance.\n",
      "  raw_cell, store_history, silent, shell_futures)\n"
     ]
    }
   ],
   "source": [
    "# append ping-based location data where GPS tag is missing\n",
    "df = photo_metadata.data.join(photo_gps, on='timestamp', lsuffix='_native', rsuffix='_ping')\n",
    "df['latitude'] = df.latitude_native.fillna(df.latitude_ping)\n",
    "df['longitude'] = df.longitude_native.fillna(df.longitude_ping)\n",
    "\n",
    "# exclude unreliable pings\n",
    "max_dt_ping = 3600/8 # 15 minutes\n",
    "no_gps_data = (~df.geotagged & (df.dt_ping >= max_dt_ping))\n",
    "df.loc[no_gps_data, ['latitude', 'longitude']] = float('nan')\n",
    "\n",
    "# select photos with reliable gps\n",
    "photos_with_gps = df[~df.latitude.isna()]"
   ]
  },
  {
   "cell_type": "markdown",
   "metadata": {},
   "source": [
    "### Match photos to semantic locations"
   ]
  },
  {
   "cell_type": "code",
   "execution_count": 18,
   "metadata": {},
   "outputs": [],
   "source": [
    "photo_positions = photos_with_gps[['latitude', 'longitude']].values\n",
    "distance_to_semantic, idxs = locate_photos(photo_positions, semantic_locations)\n",
    "photo_semantic_locations = semantic_locations.iloc[idxs].set_index(photos_with_gps.index)\n",
    "photo_semantic_locations['distance_to_semantic'] = distance_to_semantic"
   ]
  },
  {
   "cell_type": "code",
   "execution_count": 19,
   "metadata": {},
   "outputs": [],
   "source": [
    "# build automated captions\n",
    "photo_semantic_locations['caption'] = photo_semantic_locations.apply(build_caption, axis=1)\n",
    "photo_semantic_locations['place_id'] = photo_semantic_locations['id']\n",
    "photo_semantic_locations = photo_semantic_locations.drop('id', axis=1)"
   ]
  },
  {
   "cell_type": "markdown",
   "metadata": {},
   "source": [
    "### Query GoogleMaps for photos with GPS but no semantic location"
   ]
  },
  {
   "cell_type": "code",
   "execution_count": 61,
   "metadata": {},
   "outputs": [],
   "source": [
    "# look up missing items with google query\n",
    "\n",
    "max_distance_for_city = 5\n",
    "excluded_idx = photo_semantic_locations.distance_to_semantic >= max_distance_for_city\n",
    "missing = photo_semantic_locations[excluded_idx]"
   ]
  },
  {
   "cell_type": "code",
   "execution_count": 63,
   "metadata": {},
   "outputs": [],
   "source": [
    "# import googlemaps\n",
    "# with open('../../data/keys.txt', 'r') as file:\n",
    "#     api_key = file.read().strip()\n",
    "# gmaps = googlemaps.Client(key=key)\n",
    "\n",
    "# # QUERY GOOGLE PLACES API\n",
    "# responses = {}\n",
    "# for idx, gps in photos_with_gps.loc[missing.index][['latitude', 'longitude']].iterrows():\n",
    "#     response = gmaps.reverse_geocode(gps.values)\n",
    "#     img_path = photos_with_gps.loc[idx].path\n",
    "#     responses[img_path] = response    \n",
    "    \n",
    "# import json\n",
    "# with open(join(photo_metadata_dirpath, 'gmaps_results.json'), 'w') as file:\n",
    "#     json.dump(responses, file)"
   ]
  },
  {
   "cell_type": "markdown",
   "metadata": {},
   "source": [
    "### Compile google maps results"
   ]
  },
  {
   "cell_type": "code",
   "execution_count": 64,
   "metadata": {},
   "outputs": [],
   "source": [
    "import json\n",
    "with open(join(photo_metadata_dirpath, 'gmaps_results.json'), 'r') as file:\n",
    "    geocodes = json.load(file)\n",
    "\n",
    "records = []\n",
    "for image_path, geocode in geocodes.items():\n",
    "    for location in geocode:\n",
    "        place_id = location['place_id']\n",
    "        address = location['formatted_address']\n",
    "        latitude = location['geometry']['location']['lat']\n",
    "        longitude = location['geometry']['location']['lng']\n",
    "        gps = np.array([latitude, longitude])\n",
    "        record = dict(image_path=image_path, \n",
    "                      match_gps=gps, \n",
    "                      match_address=address, \n",
    "                      match_place_id=place_id)\n",
    "        records.append(record)\n",
    "df = pd.DataFrame(records)"
   ]
  },
  {
   "cell_type": "code",
   "execution_count": 77,
   "metadata": {},
   "outputs": [
    {
     "name": "stderr",
     "output_type": "stream",
     "text": [
      "/Users/Sebi/.virtualenvs/web/lib/python3.6/site-packages/ipykernel_launcher.py:5: SettingWithCopyWarning: \n",
      "A value is trying to be set on a copy of a slice from a DataFrame.\n",
      "Try using .loc[row_indexer,col_indexer] = value instead\n",
      "\n",
      "See the caveats in the documentation: https://pandas.pydata.org/pandas-docs/stable/user_guide/indexing.html#returning-a-view-versus-a-copy\n",
      "  \"\"\"\n"
     ]
    }
   ],
   "source": [
    "matches = []\n",
    "for image_path, locations in df.groupby('image_path'):\n",
    "    image_record = photos_with_gps.loc[photos_with_gps.path==image_path].iloc[0]\n",
    "    image_gps = (image_record.latitude, image_record.longitude)\n",
    "    locations['distance_from_image'] = locations.match_gps.apply(lambda x: haversine(x, image_gps))\n",
    "    match = locations.iloc[locations.distance_from_image.argmin()]\n",
    "    \n",
    "    matches.append(\n",
    "        {\n",
    "        'image_path': image_path,\n",
    "        'gps': match.match_gps,\n",
    "        'address': match.match_address,\n",
    "        'place_id': match.match_place_id,\n",
    "        'distance_from_image': match.distance_from_image}    \n",
    "    )\n",
    "\n",
    "matches = pd.DataFrame(matches, index=missing.index)"
   ]
  },
  {
   "cell_type": "code",
   "execution_count": 80,
   "metadata": {},
   "outputs": [],
   "source": [
    "from modules.utilities import fmt_address\n",
    "from modules.places import get_city_name, get_country_code, get_state_code, get_location_str\n",
    "\n",
    "address_data = pd.DataFrame.from_records(matches.address.apply(fmt_address).values.tolist(), index=matches.index)\n",
    "matches = matches.join(address_data)\n",
    "\n",
    "# parse city/country\n",
    "matches['city'] = matches.apply(get_city_name, axis=1)\n",
    "matches['country_code'] = matches.country.apply(get_country_code)\n",
    "matches['state_code'] = matches.apply(get_state_code, axis=1)\n",
    "matches['caption'] = matches.apply(get_location_str, axis=1)"
   ]
  },
  {
   "cell_type": "code",
   "execution_count": 86,
   "metadata": {},
   "outputs": [
    {
     "name": "stderr",
     "output_type": "stream",
     "text": [
      "/Users/Sebi/.virtualenvs/web/lib/python3.6/site-packages/pandas/core/generic.py:2505: PerformanceWarning: \n",
      "your performance may suffer as PyTables will pickle object types that it cannot\n",
      "map directly to c-types [inferred_type->mixed,key->block0_values] [items->Index(['city', 'state', 'country', 'caption', 'place_id'], dtype='object')]\n",
      "\n",
      "  encoding=encoding,\n"
     ]
    }
   ],
   "source": [
    "keys = ['city', 'state', 'country', 'caption', 'place_id']\n",
    "photo_semantic_locations = pd.concat((photo_semantic_locations[~excluded_idx][keys], matches[keys]))\n",
    "photo_semantic_locations.to_hdf(photo_semantic_locations_path, 'data')"
   ]
  }
 ],
 "metadata": {
  "kernelspec": {
   "display_name": "web",
   "language": "python",
   "name": "web"
  },
  "language_info": {
   "codemirror_mode": {
    "name": "ipython",
    "version": 3
   },
   "file_extension": ".py",
   "mimetype": "text/x-python",
   "name": "python",
   "nbconvert_exporter": "python",
   "pygments_lexer": "ipython3",
   "version": "3.6.4"
  }
 },
 "nbformat": 4,
 "nbformat_minor": 2
}
