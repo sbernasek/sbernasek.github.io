{
 "cells": [
  {
   "cell_type": "code",
   "execution_count": 1,
   "metadata": {},
   "outputs": [],
   "source": [
    "from glob import glob\n",
    "from os.path import join\n",
    "import pandas as pd\n",
    "\n",
    "from modules.imgur import Client\n",
    "from modules.metadata import PhotoMetadata\n",
    "\n",
    "metadata_dirpath = '../../data'\n",
    "photo_metadata_dirpath = '../../data/photo_metadata'\n",
    "photo_metadata_path = join(photo_metadata_dirpath, 'photo_metadata.hdf')\n",
    "imgur_data_path = join(photo_metadata_dirpath, 'imgur_data.hdf')\n",
    "\n",
    "%reload_ext autoreload\n",
    "%autoreload 2"
   ]
  },
  {
   "cell_type": "code",
   "execution_count": null,
   "metadata": {},
   "outputs": [],
   "source": [
    "# RENAME IMGUR ALBUM\n",
    "#OLD_TITLE = 'Morocco (2019)'\n",
    "#NEW_TITLE = 'Morocco'\n",
    "#ALBUM_HASH = client.album_dict[OLD_TITLE]\n",
    "#response = client.update_album(ALBUM_HASH, {'ids': None, 'title': NEW_TITLE})"
   ]
  },
  {
   "cell_type": "code",
   "execution_count": 2,
   "metadata": {},
   "outputs": [],
   "source": [
    "import json\n",
    "with open(join(metadata_dirpath, 'imgur_api.json'), 'r') as file:\n",
    "    api_keys = json.load(file)\n",
    "    \n",
    "CLIENT_ID = api_keys['CLIENT_ID']\n",
    "CLIENT_SECRET = api_keys['CLIENT_SECRET']\n",
    "ACCESS_TOKEN = api_keys['ACCESS_TOKEN']\n",
    "REFRESH_TOKEN = api_keys['REFRESH_TOKEN']\n",
    "\n",
    "client = Client(imgur_data_path, CLIENT_ID, CLIENT_SECRET, ACCESS_TOKEN, REFRESH_TOKEN)"
   ]
  },
  {
   "cell_type": "code",
   "execution_count": 37,
   "metadata": {},
   "outputs": [],
   "source": [
    "# # generate new access token\n",
    "# client = Client(imgur_data_path, CLIENT_ID, CLIENT_SECRET)\n",
    "# auth_url = client.get_auth_url('token')\n",
    "# token = client.get_auth_url('token')\n",
    "# client.set_user_auth(params['access_token'], params['refresh_token'])"
   ]
  },
  {
   "cell_type": "markdown",
   "metadata": {},
   "source": [
    "# Upload photos"
   ]
  },
  {
   "cell_type": "code",
   "execution_count": 16,
   "metadata": {},
   "outputs": [],
   "source": [
    "START_DATE = '2020-04-06'\n",
    "photo_metadata = PhotoMetadata(photo_metadata_path)\n",
    "records_to_add = photo_metadata.data[photo_metadata.render_times > START_DATE]"
   ]
  },
  {
   "cell_type": "code",
   "execution_count": 18,
   "metadata": {},
   "outputs": [],
   "source": [
    "from modules.utilities import str_to_datetime\n",
    "import numpy as np\n",
    "\n",
    "def is_later(record):\n",
    "    if type(record.time_uploaded) == float and np.isnan(record.time_uploaded):\n",
    "        return True\n",
    "    else:\n",
    "        return str_to_datetime(record.time_uploaded) < str_to_datetime(record.time_rendered)\n",
    "    \n",
    "records_to_add = records_to_add[records_to_add.join(client.imgur_data).apply(is_later, axis=1)]"
   ]
  },
  {
   "cell_type": "code",
   "execution_count": null,
   "metadata": {},
   "outputs": [],
   "source": [
    "client.upload_new_images(photo_metadata)"
   ]
  }
 ],
 "metadata": {
  "kernelspec": {
   "display_name": "web",
   "language": "python",
   "name": "web"
  },
  "language_info": {
   "codemirror_mode": {
    "name": "ipython",
    "version": 3
   },
   "file_extension": ".py",
   "mimetype": "text/x-python",
   "name": "python",
   "nbconvert_exporter": "python",
   "pygments_lexer": "ipython3",
   "version": "3.6.4"
  }
 },
 "nbformat": 4,
 "nbformat_minor": 2
}
