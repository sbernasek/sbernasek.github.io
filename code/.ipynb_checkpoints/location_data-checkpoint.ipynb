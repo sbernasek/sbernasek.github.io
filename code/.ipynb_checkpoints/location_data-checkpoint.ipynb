{
 "cells": [
  {
   "cell_type": "code",
   "execution_count": 1,
   "metadata": {},
   "outputs": [],
   "source": [
    "from glob import glob\n",
    "from os.path import join\n",
    "import pandas as pd\n",
    "\n",
    "%reload_ext autoreload\n",
    "%autoreload 2"
   ]
  },
  {
   "cell_type": "code",
   "execution_count": 2,
   "metadata": {},
   "outputs": [],
   "source": [
    "data_path = '../../data/locations/'"
   ]
  },
  {
   "cell_type": "code",
   "execution_count": 3,
   "metadata": {},
   "outputs": [],
   "source": [
    "import json"
   ]
  },
  {
   "cell_type": "code",
   "execution_count": 4,
   "metadata": {},
   "outputs": [],
   "source": [
    "from os import listdir\n",
    "from os.path import isdir\n",
    "from glob import glob"
   ]
  },
  {
   "cell_type": "markdown",
   "metadata": {},
   "source": [
    "# Parse all semantic locations"
   ]
  },
  {
   "cell_type": "code",
   "execution_count": 8,
   "metadata": {},
   "outputs": [],
   "source": [
    "cmb_semantic_history  = '../../data/locations/location_history_cmb/Location History/Semantic Location History'\n",
    "smb_semantic_history  = '../../data/locations/location_history_smb/Location History/Semantic Location History'"
   ]
  },
  {
   "cell_type": "code",
   "execution_count": 9,
   "metadata": {},
   "outputs": [],
   "source": [
    "places = []\n",
    "for datapath in (smb_semantic_history, cmb_semantic_history):\n",
    "    for dirpath in glob(join(datapath, '*')):\n",
    "        for filepath in glob(join(dirpath, '*.json')):\n",
    "            semantic_history = read_json(filepath)\n",
    "            for place in semantic_history['timelineObjects']:\n",
    "                if 'placeVisit' in place.keys():\n",
    "                    visit = Visit(place['placeVisit'])\n",
    "                    places.extend(visit.all_places)"
   ]
  },
  {
   "cell_type": "code",
   "execution_count": 10,
   "metadata": {},
   "outputs": [],
   "source": [
    "places = pd.DataFrame(places)\n",
    "places = places.drop_duplicates('id')"
   ]
  },
  {
   "cell_type": "code",
   "execution_count": 11,
   "metadata": {},
   "outputs": [],
   "source": [
    "from postal.parser import parse_address\n",
    "\n",
    "def fmt_address(address):\n",
    "    if address is None:\n",
    "        return {}\n",
    "    else:\n",
    "        return dict([(v,k) for k,v in parse_address(address)])"
   ]
  },
  {
   "cell_type": "code",
   "execution_count": 15,
   "metadata": {},
   "outputs": [],
   "source": [
    "address_data = pd.DataFrame.from_records(places.address.apply(fmt_address).values.tolist(), index=places.index)\n",
    "places = places.join(address_data)"
   ]
  },
  {
   "cell_type": "code",
   "execution_count": null,
   "metadata": {},
   "outputs": [],
   "source": [
    "#places = places.join(address_data, how='left')"
   ]
  },
  {
   "cell_type": "code",
   "execution_count": 22,
   "metadata": {},
   "outputs": [
    {
     "name": "stderr",
     "output_type": "stream",
     "text": [
      "/Users/Sebi/.virtualenvs/web/lib/python3.6/site-packages/pandas/core/generic.py:2505: PerformanceWarning: \n",
      "your performance may suffer as PyTables will pickle object types that it cannot\n",
      "map directly to c-types [inferred_type->mixed,key->block1_values] [items->Index(['id', 'name', 'address', 'house_number', 'road', 'city', 'state',\n",
      "       'postcode', 'country', 'unit', 'house', 'city_district', 'suburb',\n",
      "       'state_district', 'po_box', 'level', 'island'],\n",
      "      dtype='object')]\n",
      "\n",
      "  encoding=encoding,\n"
     ]
    }
   ],
   "source": [
    "places.to_hdf('../../data/semantic_locations.hdf', 'data')"
   ]
  },
  {
   "cell_type": "code",
   "execution_count": null,
   "metadata": {},
   "outputs": [],
   "source": []
  },
  {
   "cell_type": "code",
   "execution_count": null,
   "metadata": {},
   "outputs": [],
   "source": []
  },
  {
   "cell_type": "code",
   "execution_count": null,
   "metadata": {},
   "outputs": [],
   "source": []
  },
  {
   "cell_type": "code",
   "execution_count": null,
   "metadata": {},
   "outputs": [],
   "source": [
    "from postal.parser import parse_address\n",
    "\n",
    "def fmt_address(address):\n",
    "    if address is None:\n",
    "        return {}\n",
    "    else:\n",
    "        return dict([(v,k) for k,v in parse_address(address)])"
   ]
  },
  {
   "cell_type": "code",
   "execution_count": null,
   "metadata": {},
   "outputs": [],
   "source": []
  },
  {
   "cell_type": "code",
   "execution_count": 364,
   "metadata": {},
   "outputs": [
    {
     "data": {
      "text/plain": [
       "{'house_number': '5739',\n",
       " 'road': 'n clark st',\n",
       " 'city': 'chicago',\n",
       " 'state': 'il',\n",
       " 'postcode': '60660',\n",
       " 'country': 'usa'}"
      ]
     },
     "execution_count": 364,
     "metadata": {},
     "output_type": "execute_result"
    }
   ],
   "source": [
    "fmt_address(x.address)"
   ]
  },
  {
   "cell_type": "code",
   "execution_count": null,
   "metadata": {},
   "outputs": [],
   "source": [
    "x"
   ]
  },
  {
   "cell_type": "code",
   "execution_count": null,
   "metadata": {},
   "outputs": [],
   "source": []
  },
  {
   "cell_type": "code",
   "execution_count": 359,
   "metadata": {},
   "outputs": [
    {
     "data": {
      "text/plain": [
       "id                            ChIJB9FbYZrRD4gRDd3JOBKHV_Q\n",
       "name                                                 None\n",
       "latitude                                           41.988\n",
       "longitude                                         -87.667\n",
       "address           5739 N Clark St\\nChicago, IL 60660\\nUSA\n",
       "house_number                                          NaN\n",
       "road                                                  NaN\n",
       "city                                                  NaN\n",
       "state                                                 NaN\n",
       "postcode                                              NaN\n",
       "country                                               NaN\n",
       "unit                                                  NaN\n",
       "house                                                 NaN\n",
       "city_district                                         NaN\n",
       "suburb                                                NaN\n",
       "state_district                                        NaN\n",
       "po_box                                                NaN\n",
       "level                                                 NaN\n",
       "island                                                NaN\n",
       "Name: 68594, dtype: object"
      ]
     },
     "execution_count": 359,
     "metadata": {},
     "output_type": "execute_result"
    }
   ],
   "source": [
    "x = places.iloc[-1]\n",
    "x"
   ]
  },
  {
   "cell_type": "code",
   "execution_count": null,
   "metadata": {},
   "outputs": [],
   "source": []
  },
  {
   "cell_type": "code",
   "execution_count": null,
   "metadata": {},
   "outputs": [],
   "source": []
  },
  {
   "cell_type": "code",
   "execution_count": null,
   "metadata": {},
   "outputs": [],
   "source": []
  },
  {
   "cell_type": "code",
   "execution_count": null,
   "metadata": {},
   "outputs": [],
   "source": []
  },
  {
   "cell_type": "code",
   "execution_count": 7,
   "metadata": {},
   "outputs": [],
   "source": [
    "def read_json(filepath):\n",
    "    with open(filepath, 'r') as file:\n",
    "        content = json.load(file)\n",
    "    return content\n",
    "\n",
    "\n",
    "class Location:\n",
    "    \n",
    "    def __init__(self, x):\n",
    "        self.x = x\n",
    "        \n",
    "    @property\n",
    "    def place_id(self):\n",
    "        return self.x['placeId']\n",
    "    \n",
    "    @property\n",
    "    def name(self):\n",
    "        if 'name' in self.x.keys():\n",
    "            return self.x['name']\n",
    "        else:\n",
    "            return None\n",
    "    \n",
    "    @property\n",
    "    def latitude(self):\n",
    "        return self.x['latitudeE7'] / 1E7\n",
    "    \n",
    "    @property\n",
    "    def longitude(self):\n",
    "        return self.x['longitudeE7'] / 1E7\n",
    "    \n",
    "    def to_json(self):\n",
    "        return {\n",
    "            'id': self.place_id,\n",
    "            'name': self.name,\n",
    "            'latitude': self.latitude,\n",
    "            'longitude': self.longitude\n",
    "        }\n",
    "\n",
    "    \n",
    "class Visit:\n",
    "    def __init__(self, x):\n",
    "        self.x = x\n",
    "    \n",
    "    @property\n",
    "    def all_places(self):\n",
    "        location = Location(self.x['location']).to_json()\n",
    "        location['address'] = self.address\n",
    "        locations = [location]\n",
    "        \n",
    "        if 'otherCandidateLocations' in self.x.keys():        \n",
    "            for record in self.x['otherCandidateLocations']:\n",
    "                try:\n",
    "                    location = Location(record).to_json()\n",
    "                    location['address'] = self.address\n",
    "                    locations.append(location)\n",
    "                except:\n",
    "                    continue\n",
    "                    \n",
    "        return locations\n",
    "    \n",
    "    @property\n",
    "    def latitude(self):    \n",
    "        return self.x['centerLatE7'] / 1E7\n",
    "\n",
    "    @property\n",
    "    def longitude(self):    \n",
    "        return self.x['centerLngE7'] / 1E7\n",
    "    \n",
    "    @property\n",
    "    def gps(self):\n",
    "        return [self.latitude, self.longitude]\n",
    "\n",
    "    @property\n",
    "    def place_id(self):    \n",
    "        return self.x['location']['placeId']\n",
    "\n",
    "    @property\n",
    "    def name(self):        \n",
    "        return self.x['location']['name']\n",
    "\n",
    "    @property\n",
    "    def address(self):    \n",
    "        if 'address' in self.x['location']:\n",
    "            return self.x['location']['address']\n",
    "        else:\n",
    "            return None\n",
    "\n",
    "    @property\n",
    "    def visit_confidence(self):    \n",
    "        return self.x['visitConfidence']\n",
    "\n",
    "    @property\n",
    "    def place_confidence(self):\n",
    "        return self.x['placeConfidence']\n",
    "\n",
    "    @property\n",
    "    def duration(self):    \n",
    "        return self.time_stop - self.time_start\n",
    "\n",
    "    @property\n",
    "    def time_start(self):    \n",
    "        return self.x['duration']['startTimestampMs']\n",
    "\n",
    "    @property\n",
    "    def time_stop(self):    \n",
    "\n",
    "        return self.x['duration']['endTimestampMs'] \n"
   ]
  },
  {
   "cell_type": "code",
   "execution_count": 269,
   "metadata": {},
   "outputs": [],
   "source": [
    "class Coordinate:\n",
    "    \n",
    "    def __init__(self, latitude, longitude, altitude=None):\n",
    "        self.latitude = latitude\n",
    "        self.longitude = longitude\n",
    "        self.altitude = altitude\n",
    "        \n",
    "    @property\n",
    "    def radians(self):\n",
    "        degrees_per_radian = 180/np.pi\n",
    "        return (self.latitude/degrees_per_radian, self.longitude/degrees_per_radian)\n",
    "    \n",
    "    def __sub__(self, other):\n",
    "        return self.compute_distance(*self.radians, *other.radians)\n",
    "        \n",
    "    @staticmethod\n",
    "    def compute_distance(x1, y1, x2, y2, R=6371):\n",
    "    \n",
    "        dx = x1 - x2\n",
    "        dy = y1 - y2\n",
    "\n",
    "        a = (np.sin(dx/2))**2 + np.cos(x1) * np.cos(x2) * (np.sin(dy/2))**2\n",
    "\n",
    "        c = 2 * np.arctan2(np.sqrt(a), np.sqrt(1-a))\n",
    "\n",
    "        return R * c\n",
    "    \n",
    "    \n",
    "class Ping(Coordinate):\n",
    "    \n",
    "    def __init__(self, timestamp, latitude, longitude, altitude=None, dx=None, dz=None):\n",
    "        super().__init__(latitude, longitude, altitude)\n",
    "        self.timestamp = timestamp\n",
    "        self.dx = dx\n",
    "        self.dz = dz\n",
    "        \n",
    "    @staticmethod\n",
    "    def to_timestamp(t):\n",
    "        return datetime.fromtimestamp(int(t)/1000).strftime('%Y-%m-%d %H:%M:%S') \n",
    "          \n",
    "    @classmethod\n",
    "    def from_dict(cls, adict):\n",
    "        timestamp = cls.to_timestamp(adict['timestampMs'])\n",
    "        latitude = adict['latitudeE7'] / 1e7\n",
    "        longitude = adict['longitudeE7'] / 1e7 \n",
    "        #dx = adict['accuracy']\n",
    "        #altitude = adict['altitude']\n",
    "        #dz = adict['verticalAccuracy']\n",
    "        return Ping(timestamp, latitude, longitude, altitude, dx, dz)"
   ]
  },
  {
   "cell_type": "code",
   "execution_count": null,
   "metadata": {},
   "outputs": [],
   "source": []
  },
  {
   "cell_type": "code",
   "execution_count": null,
   "metadata": {},
   "outputs": [],
   "source": []
  },
  {
   "cell_type": "code",
   "execution_count": 288,
   "metadata": {},
   "outputs": [],
   "source": [
    "import json\n",
    "import pandas as pd\n",
    "from datetime import datetime\n",
    "\n",
    "def load_ping_data(filepath):\n",
    "    \n",
    "    # load records into dataframe\n",
    "    with open(filepath, 'r') as file:\n",
    "        pings = json.load(file)['locations']\n",
    "                \n",
    "    df = pd.DataFrame.from_records(pings)\n",
    "    \n",
    "    df['latitude'] = df['latitudeE7'] / 1e7\n",
    "    df['longitude'] = df['longitudeE7'] / 1e7\n",
    "    #df['ts'] = df['timestampMs'].apply(Ping.to_timestamp)\n",
    "    df['timestamp'] = df.timestampMs.apply(lambda x: datetime.fromtimestamp(int(x)/1000))\n",
    "    #df['t'] = df.timestampMs.apply(lambda x: int(x)/1e6)\n",
    "    \n",
    "    df = df.set_index('timestamp')\n",
    "    \n",
    "    keys = ['activity', 'heading', 'latitudeE7', 'longitudeE7', \n",
    "            'timestampMs', 'velocity', 'accuracy', 'verticalAccuracy']\n",
    "    for key in keys:\n",
    "        if key in df.columns:\n",
    "            df = df.drop(key, axis=1)\n",
    "    \n",
    "    return df"
   ]
  },
  {
   "cell_type": "code",
   "execution_count": 289,
   "metadata": {},
   "outputs": [],
   "source": [
    "from os.path import exists\n",
    "smb_pings_path = '../../data/locations/location_history_smb/Location History/Location History.json'\n",
    "cmb_pings_path = '../../data/locations/location_history_cmb/Location History/Location History.json'"
   ]
  },
  {
   "cell_type": "code",
   "execution_count": 290,
   "metadata": {},
   "outputs": [],
   "source": [
    "smb_pings = load_ping_data(smb_pings_path)\n",
    "cmb_pings = load_ping_data(cmb_pings_path)\n",
    "smb_pings['owner'] = 'SMB'\n",
    "cmb_pings['owner'] = 'CMB'"
   ]
  },
  {
   "cell_type": "code",
   "execution_count": 342,
   "metadata": {},
   "outputs": [],
   "source": [
    "pings = pd.concat([smb_pings, cmb_pings])"
   ]
  },
  {
   "cell_type": "code",
   "execution_count": 352,
   "metadata": {},
   "outputs": [],
   "source": [
    "pings.to_hdf('../../data/pings.hdf', 'data')"
   ]
  },
  {
   "cell_type": "code",
   "execution_count": null,
   "metadata": {},
   "outputs": [],
   "source": []
  },
  {
   "cell_type": "code",
   "execution_count": 354,
   "metadata": {},
   "outputs": [],
   "source": []
  },
  {
   "cell_type": "code",
   "execution_count": 353,
   "metadata": {},
   "outputs": [
    {
     "data": {
      "text/html": [
       "<div>\n",
       "<style scoped>\n",
       "    .dataframe tbody tr th:only-of-type {\n",
       "        vertical-align: middle;\n",
       "    }\n",
       "\n",
       "    .dataframe tbody tr th {\n",
       "        vertical-align: top;\n",
       "    }\n",
       "\n",
       "    .dataframe thead th {\n",
       "        text-align: right;\n",
       "    }\n",
       "</style>\n",
       "<table border=\"1\" class=\"dataframe\">\n",
       "  <thead>\n",
       "    <tr style=\"text-align: right;\">\n",
       "      <th></th>\n",
       "      <th>altitude</th>\n",
       "      <th>latitude</th>\n",
       "      <th>longitude</th>\n",
       "      <th>owner</th>\n",
       "    </tr>\n",
       "    <tr>\n",
       "      <th>timestamp</th>\n",
       "      <th></th>\n",
       "      <th></th>\n",
       "      <th></th>\n",
       "      <th></th>\n",
       "    </tr>\n",
       "  </thead>\n",
       "  <tbody>\n",
       "    <tr>\n",
       "      <th>2014-03-11 19:12:43.356</th>\n",
       "      <td>NaN</td>\n",
       "      <td>41.894308</td>\n",
       "      <td>-87.686883</td>\n",
       "      <td>SMB</td>\n",
       "    </tr>\n",
       "    <tr>\n",
       "      <th>2014-03-11 19:13:43.711</th>\n",
       "      <td>NaN</td>\n",
       "      <td>41.894308</td>\n",
       "      <td>-87.686883</td>\n",
       "      <td>SMB</td>\n",
       "    </tr>\n",
       "    <tr>\n",
       "      <th>2014-03-11 19:14:43.784</th>\n",
       "      <td>NaN</td>\n",
       "      <td>41.894308</td>\n",
       "      <td>-87.686883</td>\n",
       "      <td>SMB</td>\n",
       "    </tr>\n",
       "    <tr>\n",
       "      <th>2014-03-11 19:15:43.866</th>\n",
       "      <td>NaN</td>\n",
       "      <td>41.894308</td>\n",
       "      <td>-87.686883</td>\n",
       "      <td>SMB</td>\n",
       "    </tr>\n",
       "    <tr>\n",
       "      <th>2014-03-11 19:16:31.610</th>\n",
       "      <td>NaN</td>\n",
       "      <td>41.894308</td>\n",
       "      <td>-87.686883</td>\n",
       "      <td>SMB</td>\n",
       "    </tr>\n",
       "    <tr>\n",
       "      <th>...</th>\n",
       "      <td>...</td>\n",
       "      <td>...</td>\n",
       "      <td>...</td>\n",
       "      <td>...</td>\n",
       "    </tr>\n",
       "    <tr>\n",
       "      <th>2019-10-22 17:18:07.000</th>\n",
       "      <td>0.0</td>\n",
       "      <td>37.615932</td>\n",
       "      <td>-122.390114</td>\n",
       "      <td>CMB</td>\n",
       "    </tr>\n",
       "    <tr>\n",
       "      <th>2019-10-22 17:35:51.263</th>\n",
       "      <td>0.0</td>\n",
       "      <td>37.623292</td>\n",
       "      <td>-122.405815</td>\n",
       "      <td>CMB</td>\n",
       "    </tr>\n",
       "    <tr>\n",
       "      <th>2019-10-22 17:42:35.495</th>\n",
       "      <td>51.0</td>\n",
       "      <td>37.684282</td>\n",
       "      <td>-122.465419</td>\n",
       "      <td>CMB</td>\n",
       "    </tr>\n",
       "    <tr>\n",
       "      <th>2019-11-03 13:33:35.391</th>\n",
       "      <td>22.0</td>\n",
       "      <td>33.742568</td>\n",
       "      <td>-116.284691</td>\n",
       "      <td>CMB</td>\n",
       "    </tr>\n",
       "    <tr>\n",
       "      <th>2019-11-03 13:35:36.420</th>\n",
       "      <td>22.0</td>\n",
       "      <td>33.742531</td>\n",
       "      <td>-116.284717</td>\n",
       "      <td>CMB</td>\n",
       "    </tr>\n",
       "  </tbody>\n",
       "</table>\n",
       "<p>262683 rows × 4 columns</p>\n",
       "</div>"
      ],
      "text/plain": [
       "                         altitude   latitude   longitude owner\n",
       "timestamp                                                     \n",
       "2014-03-11 19:12:43.356       NaN  41.894308  -87.686883   SMB\n",
       "2014-03-11 19:13:43.711       NaN  41.894308  -87.686883   SMB\n",
       "2014-03-11 19:14:43.784       NaN  41.894308  -87.686883   SMB\n",
       "2014-03-11 19:15:43.866       NaN  41.894308  -87.686883   SMB\n",
       "2014-03-11 19:16:31.610       NaN  41.894308  -87.686883   SMB\n",
       "...                           ...        ...         ...   ...\n",
       "2019-10-22 17:18:07.000       0.0  37.615932 -122.390114   CMB\n",
       "2019-10-22 17:35:51.263       0.0  37.623292 -122.405815   CMB\n",
       "2019-10-22 17:42:35.495      51.0  37.684282 -122.465419   CMB\n",
       "2019-11-03 13:33:35.391      22.0  33.742568 -116.284691   CMB\n",
       "2019-11-03 13:35:36.420      22.0  33.742531 -116.284717   CMB\n",
       "\n",
       "[262683 rows x 4 columns]"
      ]
     },
     "execution_count": 353,
     "metadata": {},
     "output_type": "execute_result"
    }
   ],
   "source": []
  },
  {
   "cell_type": "code",
   "execution_count": null,
   "metadata": {},
   "outputs": [],
   "source": []
  },
  {
   "cell_type": "code",
   "execution_count": null,
   "metadata": {},
   "outputs": [],
   "source": []
  },
  {
   "cell_type": "code",
   "execution_count": null,
   "metadata": {},
   "outputs": [],
   "source": []
  },
  {
   "cell_type": "code",
   "execution_count": null,
   "metadata": {},
   "outputs": [],
   "source": []
  }
 ],
 "metadata": {
  "kernelspec": {
   "display_name": "web",
   "language": "python",
   "name": "web"
  },
  "language_info": {
   "codemirror_mode": {
    "name": "ipython",
    "version": 3
   },
   "file_extension": ".py",
   "mimetype": "text/x-python",
   "name": "python",
   "nbconvert_exporter": "python",
   "pygments_lexer": "ipython3",
   "version": "3.6.4"
  }
 },
 "nbformat": 4,
 "nbformat_minor": 2
}
