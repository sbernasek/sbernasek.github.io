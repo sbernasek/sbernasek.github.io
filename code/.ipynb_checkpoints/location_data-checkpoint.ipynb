{
 "cells": [
  {
   "cell_type": "code",
   "execution_count": 1,
   "metadata": {},
   "outputs": [],
   "source": [
    "import json\n",
    "from os import listdir\n",
    "from os.path import isdir, join\n",
    "from glob import glob\n",
    "import pandas as pd\n",
    "from datetime import datetime\n",
    "\n",
    "from modules.utilities import read_json, fmt_address\n",
    "from modules.places import Visit\n",
    "\n",
    "location_data_path = '../../data/locations/'\n",
    "\n",
    "%reload_ext autoreload\n",
    "%autoreload 2"
   ]
  },
  {
   "cell_type": "code",
   "execution_count": 2,
   "metadata": {},
   "outputs": [],
   "source": [
    "cmb_semantic_path  = join(location_data_path, 'location_history_cmb/Location History/Semantic Location History')\n",
    "smb_semantic_path  = join(location_data_path, 'location_history_smb/Location History/Semantic Location History')\n",
    "semantic_paths = (smb_semantic_path, cmb_semantic_path)"
   ]
  },
  {
   "cell_type": "markdown",
   "metadata": {},
   "source": [
    "# Record all semantic locations and visits to them"
   ]
  },
  {
   "cell_type": "code",
   "execution_count": 8,
   "metadata": {},
   "outputs": [],
   "source": [
    "# parse all semantic locations\n",
    "places, visits = [], []\n",
    "for semantic_path in semantic_paths:\n",
    "    owner = semantic_path.split('/')[-3].split('_')[-1].upper()\n",
    "    for dirpath in glob(join(semantic_path, '*')):\n",
    "        for filepath in glob(join(dirpath, '*.json')):\n",
    "            semantic_history = read_json(filepath)\n",
    "            for place in semantic_history['timelineObjects']:\n",
    "                if 'placeVisit' in place.keys():\n",
    "                    visit = Visit(place['placeVisit'], owner=owner)\n",
    "                    places.extend(visit.all_places)\n",
    "                    visits.append(visit.to_record())\n",
    "                    \n",
    "places = pd.DataFrame(places)\n",
    "places = places.drop_duplicates('id')\n",
    "visits = pd.DataFrame(visits)"
   ]
  },
  {
   "cell_type": "code",
   "execution_count": 9,
   "metadata": {},
   "outputs": [],
   "source": [
    "# append formatted addresses\n",
    "address_data = pd.DataFrame.from_records(places.address.apply(fmt_address).values.tolist(), index=places.index)\n",
    "semantic_locations = places.join(address_data)\n",
    "\n",
    "# remove blank entries\n",
    "semantic_locations = semantic_locations[~semantic_locations.address.isna()]\n",
    "semantic_locations = semantic_locations[~(semantic_locations.address=='')]"
   ]
  },
  {
   "cell_type": "code",
   "execution_count": 10,
   "metadata": {},
   "outputs": [],
   "source": [
    "from modules.places import get_city_name, get_country_code, get_state_code, get_location_str\n",
    "\n",
    "# clean up some common problems\n",
    "semantic_locations.loc[semantic_locations.address.apply(lambda x: 'czech' in x.lower()), 'country'] = 'česko'\n",
    "semantic_locations.loc[semantic_locations.address.apply(lambda x: 'ouarzazate' in x.lower()), 'city'] = 'ouarzazate'\n",
    "semantic_locations.loc[semantic_locations.address.apply(lambda x: 'marrakesh' in x.lower()), 'city'] = 'marrakesh'\n",
    "\n",
    "# parse city/country\n",
    "semantic_locations['city'] = semantic_locations.apply(get_city_name, axis=1)\n",
    "semantic_locations = semantic_locations[~semantic_locations.city.isna()]\n",
    "semantic_locations['country_code'] = semantic_locations.country.apply(get_country_code)\n",
    "semantic_locations['state_code'] = semantic_locations.apply(get_state_code, axis=1)\n",
    "semantic_locations['location_str'] = semantic_locations.apply(get_location_str, axis=1)"
   ]
  },
  {
   "cell_type": "code",
   "execution_count": 11,
   "metadata": {},
   "outputs": [
    {
     "name": "stderr",
     "output_type": "stream",
     "text": [
      "/Users/Sebi/.virtualenvs/web/lib/python3.6/site-packages/pandas/core/generic.py:2505: PerformanceWarning: \n",
      "your performance may suffer as PyTables will pickle object types that it cannot\n",
      "map directly to c-types [inferred_type->mixed,key->block1_values] [items->Index(['id', 'name', 'address', 'house_number', 'road', 'city', 'state',\n",
      "       'postcode', 'country', 'unit', 'house', 'city_district', 'suburb',\n",
      "       'state_district', 'po_box', 'level', 'island', 'country_code',\n",
      "       'state_code', 'location_str'],\n",
      "      dtype='object')]\n",
      "\n",
      "  encoding=encoding,\n"
     ]
    }
   ],
   "source": [
    "# save semantic locations\n",
    "semantic_locations_path = join(location_data_path, 'semantic_locations.hdf')\n",
    "semantic_locations.to_hdf(semantic_locations_path, 'data')\n",
    "\n",
    "# save visits\n",
    "semantic_visits_path = join(location_data_path, 'semantic_visits.hdf')\n",
    "visits.to_hdf(semantic_visits_path, 'data')"
   ]
  },
  {
   "cell_type": "code",
   "execution_count": null,
   "metadata": {},
   "outputs": [],
   "source": []
  },
  {
   "cell_type": "markdown",
   "metadata": {},
   "source": [
    "# Mobile ping data"
   ]
  },
  {
   "cell_type": "code",
   "execution_count": 12,
   "metadata": {},
   "outputs": [],
   "source": [
    "from modules.utilities import posix_to_ts, read_json"
   ]
  },
  {
   "cell_type": "code",
   "execution_count": 13,
   "metadata": {},
   "outputs": [],
   "source": [
    "def load_pings(filepath, owner):\n",
    "    \n",
    "    # load records into dataframe\n",
    "    pings = read_json(filepath)['locations']\n",
    "                \n",
    "    pings = pd.DataFrame.from_records(pings)\n",
    "    pings['latitude'] = pings['latitudeE7'] / 1e7\n",
    "    pings['longitude'] = pings['longitudeE7'] / 1e7\n",
    "    pings['timestamp'] = pings.timestampMs.apply(posix_to_ts)\n",
    "    pings = pings.set_index('timestamp')\n",
    "    \n",
    "    columns = ['latitude', 'longitude', 'accuracy', 'altitude']\n",
    "    pings = pings.loc[:, columns]\n",
    "    \n",
    "    pings['owner'] = owner\n",
    "    \n",
    "    return pings"
   ]
  },
  {
   "cell_type": "code",
   "execution_count": 26,
   "metadata": {},
   "outputs": [],
   "source": [
    "smb_pings_path = join(location_data_path, 'location_history_smb/Location History/Location History.json')\n",
    "cmb_pings_path = join(location_data_path, 'location_history_cmb/Location History/Location History.json')\n",
    "smb_pings = load_pings(smb_pings_path, 'SMB')\n",
    "cmb_pings = load_pings(cmb_pings_path, 'CMB')\n",
    "pings = pd.concat([smb_pings, cmb_pings['2019-06-01': '2019-10-21']])\n",
    "pings = pings.sort_index()"
   ]
  },
  {
   "cell_type": "code",
   "execution_count": 28,
   "metadata": {},
   "outputs": [],
   "source": [
    "# # save pings\n",
    "#pings_data_path = join(location_data_path, 'pings.hdf')\n",
    "#pings.to_hdf(pings_data_path, 'data')"
   ]
  },
  {
   "cell_type": "code",
   "execution_count": null,
   "metadata": {},
   "outputs": [],
   "source": []
  }
 ],
 "metadata": {
  "kernelspec": {
   "display_name": "web",
   "language": "python",
   "name": "web"
  },
  "language_info": {
   "codemirror_mode": {
    "name": "ipython",
    "version": 3
   },
   "file_extension": ".py",
   "mimetype": "text/x-python",
   "name": "python",
   "nbconvert_exporter": "python",
   "pygments_lexer": "ipython3",
   "version": "3.6.4"
  }
 },
 "nbformat": 4,
 "nbformat_minor": 2
}
