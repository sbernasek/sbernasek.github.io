{
 "cells": [
  {
   "cell_type": "code",
   "execution_count": 1,
   "metadata": {},
   "outputs": [],
   "source": [
    "from glob import glob\n",
    "from os.path import join\n",
    "import pandas as pd\n",
    "\n",
    "from modules.metadata import PhotoMetadata\n",
    "from modules.utilities import str_to_datetime\n",
    "from templating.post import Post\n",
    "\n",
    "location_data_dirpath = '../../data/locations/'\n",
    "photo_metadata_dirpath = '../../data/photo_metadata'\n",
    "pings_data_path = join(location_data_dirpath, 'pings.hdf')\n",
    "photo_metadata_path = join(photo_metadata_dirpath, 'photo_metadata.hdf')\n",
    "photo_gps_path = join(photo_metadata_dirpath, 'photo_gps.hdf')\n",
    "photo_semantic_locations_path = join(photo_metadata_dirpath, 'photo_semantic_locations.hdf')\n",
    "\n",
    "user_captions_path = join(photo_metadata_dirpath, 'user_captions.xlsx')\n",
    "user_locations_path = join(photo_metadata_dirpath, 'user_gps.xlsx')\n",
    "user_exclusions_path = join(photo_metadata_dirpath, 'user_hidden_photos.xlsx')\n",
    "\n",
    "imgur_data_path = join(photo_metadata_dirpath, 'imgur_data.hdf')\n",
    "\n",
    "%reload_ext autoreload\n",
    "%autoreload 2"
   ]
  },
  {
   "cell_type": "markdown",
   "metadata": {},
   "source": [
    "# Load photo metadata"
   ]
  },
  {
   "cell_type": "code",
   "execution_count": 2,
   "metadata": {},
   "outputs": [],
   "source": [
    "# load metadata\n",
    "photo_metadata = PhotoMetadata(photo_metadata_path)\n",
    "\n",
    "# load dimensions\n",
    "photo_dimensions = pd.read_hdf(join(photo_metadata_dirpath, 'photo_dimensions.hdf'), 'data')\n",
    "\n",
    "# load imgur URLs\n",
    "imgur_data = pd.read_hdf(imgur_data_path, 'data')\n",
    "\n",
    "# load photo GPS data\n",
    "photo_gps = pd.read_hdf(photo_gps_path, 'data')\n",
    "\n",
    "# load matched semantic locations\n",
    "photo_semantic_locations = pd.read_hdf(photo_semantic_locations_path, 'data')\n",
    "\n",
    "# load user-curated data\n",
    "user_captions = pd.read_excel(user_captions_path).set_index(PhotoMetadata.INDEX)\n",
    "user_locations = pd.read_excel(user_locations_path).set_index(PhotoMetadata.INDEX)\n",
    "user_exclusions = pd.read_excel(user_exclusions_path).set_index(PhotoMetadata.INDEX)"
   ]
  },
  {
   "cell_type": "markdown",
   "metadata": {},
   "source": [
    "# Generate post data"
   ]
  },
  {
   "cell_type": "code",
   "execution_count": 3,
   "metadata": {},
   "outputs": [
    {
     "name": "stderr",
     "output_type": "stream",
     "text": [
      "/Users/Sebi/.virtualenvs/web/lib/python3.6/site-packages/IPython/core/interactiveshell.py:2858: PerformanceWarning: indexing past lexsort depth may impact performance.\n",
      "  raw_cell, store_history, silent, shell_futures)\n"
     ]
    }
   ],
   "source": [
    "# append ping-based location data where GPS tag is missing\n",
    "posts = photo_metadata.data.join(photo_gps, on='timestamp', lsuffix='_native', rsuffix='_ping')\n",
    "posts['latitude'] = posts.latitude_native.fillna(posts.latitude_ping)\n",
    "posts['longitude'] = posts.longitude_native.fillna(posts.longitude_ping)\n",
    "\n",
    "# append dimensions\n",
    "posts = posts.join(photo_dimensions)\n",
    "\n",
    "# exclude unreliable pings\n",
    "max_dt_ping = 3600/8 # 15 minutes\n",
    "no_gps_data = (~posts.geotagged & (posts.dt_ping >= max_dt_ping))\n",
    "posts.loc[no_gps_data, ['latitude', 'longitude']] = float('nan')\n",
    "\n",
    "# append manually-curated captions\n",
    "posts = posts.join(user_captions)\n",
    "\n",
    "# append nearest semantic location and use it to fill missing captions\n",
    "posts = posts.join(photo_semantic_locations, how='left', rsuffix='_auto')\n",
    "posts['caption'] = posts.caption.fillna(posts.caption_auto)\n",
    "\n",
    "# append manually-curated location data\n",
    "posts = posts.fillna(user_locations[['city', 'country', 'latitude', 'longitude']])\n",
    "\n",
    "# manually-excluded photos\n",
    "posts = posts.drop(index=user_exclusions.index)\n",
    "\n",
    "# append imgur URLs\n",
    "posts = posts.join(imgur_data)"
   ]
  },
  {
   "cell_type": "code",
   "execution_count": 5,
   "metadata": {},
   "outputs": [],
   "source": [
    "class Writer:\n",
    "    \n",
    "    titles = {\n",
    "        'Spain': 'Catalonia',\n",
    "        'Germany': 'Bavaria',\n",
    "        'CA Highway 1': 'Highway 1',\n",
    "    }\n",
    "    \n",
    "    covers = {\n",
    "        'CA Highway 1': ('CA Highway 1', 'IMG_1888.jpg', 'iPhone 7'),\n",
    "        'France': ('France', 'IMG_3750.jpg', 'Canon PowerShot G9 X Mark II'),\n",
    "        'Italy': ('Italy', 'IMG_3797.jpg', 'iPhone 7'),\n",
    "        'England': ('England', 'IMG_3259.jpg', 'Canon PowerShot G9 X Mark II'),\n",
    "        'Czech Republic': ('Czech Republic', 'IMG_1610.jpg', 'Canon PowerShot G9 X Mark II'),\n",
    "        'Germany': ('Germany', 'IMG_1710.jpg', 'Canon PowerShot G9 X Mark II'),\n",
    "        'Austria': ('Austria', 'IMG_1993.jpg', 'Canon PowerShot G9 X Mark II'),\n",
    "        'Slovenia': ('Slovenia', 'IMG_2210.jpg', 'Canon PowerShot G9 X Mark II'),\n",
    "        'Croatia': ('Croatia', 'IMG_3093.jpg', 'Canon PowerShot G9 X Mark II'),\n",
    "        'Spain': ('Spain', 'IMG_3491.jpg', 'Canon PowerShot G9 X Mark II'),\n",
    "        'Morocco': ('Morocco', 'IMG_7514.jpg', 'iPhone 7'),\n",
    "        'Italy 2': ('Italy 2', 'IMG_3460.jpg', 'iPhone SE'),    \n",
    "        'Lake Tahoe': ('Lake Tahoe', 'IMG_8674.jpg', 'iPhone 7'),\n",
    "        'Palm Springs': ('Palm Springs', 'IMG_4472.jpg', 'iPhone SE'),\n",
    "        'Rocky Mountains': ('Rocky Mountains', 'IMG_4760.jpg', 'Canon PowerShot G9 X Mark II')\n",
    "    }\n",
    "    \n",
    "    def __init__(self, posts):\n",
    "        self.posts = posts\n",
    "\n",
    "    @staticmethod\n",
    "    def datetime_to_str(ts, fmt='%Y:%m:%d %H:%M:%S'):\n",
    "        return ts.strftime(fmt)\n",
    "    \n",
    "    @property\n",
    "    def post_order(self):\n",
    "        mean_timestamps = self.posts.groupby('album')['timestamp'].aggregate(lambda x: x.mean())\n",
    "        return mean_timestamps.sort_values()\n",
    "        \n",
    "    def write_post(self, album, date='2020-01-01'):\n",
    "        name_str = '-'.join([x.lower() for x in album.split()])\n",
    "        filename = '{:s}-{:s}'.format(date, name_str)\n",
    "        \n",
    "        if album in self.titles.keys():\n",
    "            title = self.titles[album]\n",
    "        else:\n",
    "            title = album\n",
    "        \n",
    "        cover_id = self.posts.loc[self.covers[album]].imgur_id\n",
    "        \n",
    "        records = self.posts.loc[album].sort_values(by='timestamp')\n",
    "        \n",
    "        post = Post(filename, title, records, cover_id=cover_id)\n",
    "        post.write()\n",
    "        \n",
    "    def write(self, **kwargs):        \n",
    "        for album, timestamp in self.post_order.iteritems():\n",
    "            date, time = self.datetime_to_str(timestamp).split()\n",
    "            self.write_post(album, date=date.replace(':', '-'), **kwargs)\n",
    "        "
   ]
  },
  {
   "cell_type": "code",
   "execution_count": 6,
   "metadata": {},
   "outputs": [],
   "source": [
    "writer = Writer(posts)\n",
    "writer.write()"
   ]
  },
  {
   "cell_type": "code",
   "execution_count": null,
   "metadata": {},
   "outputs": [],
   "source": [
    "# INDEX = ['album', 'filename', 'source']\n",
    "# records = []\n",
    "# for idx, p in posts.path.iteritems():\n",
    "#     record = dict(zip(INDEX, idx))\n",
    "#     im = Image.open(p)\n",
    "#     record['image_width'] = im.width\n",
    "#     record['image_height'] = im.height\n",
    "#     record['image_aspect'] = im.width/im.height\n",
    "#     records.append(record)\n",
    "    \n",
    "# records = pd.DataFrame(records).set_index(INDEX)\n",
    "# records['is_horizontal'] = records.image_aspect > 1\n",
    "# records.to_hdf(join(photo_metadata_dirpath, 'photo_dimensions.hdf'), 'data')"
   ]
  }
 ],
 "metadata": {
  "kernelspec": {
   "display_name": "web",
   "language": "python",
   "name": "web"
  },
  "language_info": {
   "codemirror_mode": {
    "name": "ipython",
    "version": 3
   },
   "file_extension": ".py",
   "mimetype": "text/x-python",
   "name": "python",
   "nbconvert_exporter": "python",
   "pygments_lexer": "ipython3",
   "version": "3.6.4"
  }
 },
 "nbformat": 4,
 "nbformat_minor": 2
}
