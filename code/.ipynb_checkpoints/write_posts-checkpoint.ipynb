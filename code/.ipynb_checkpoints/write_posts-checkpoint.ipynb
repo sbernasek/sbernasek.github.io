{
 "cells": [
  {
   "cell_type": "code",
   "execution_count": 1,
   "metadata": {},
   "outputs": [],
   "source": [
    "from glob import glob\n",
    "from os.path import join\n",
    "import pandas as pd\n",
    "\n",
    "from modules.imgur import Client\n",
    "from templating.post import Post\n",
    "\n",
    "%reload_ext autoreload\n",
    "%autoreload 2"
   ]
  },
  {
   "cell_type": "code",
   "execution_count": 2,
   "metadata": {},
   "outputs": [],
   "source": [
    "metadata_path = './data/metadata_tagged.hdf'"
   ]
  },
  {
   "cell_type": "code",
   "execution_count": 3,
   "metadata": {},
   "outputs": [],
   "source": [
    "metadata = pd.read_hdf(metadata_path, 'data')\n",
    "# metadata['album'] = metadata.album.replace('Czech (2019)', 'Czechia (2019)')\n",
    "# metadata['album'] = metadata.album.replace('Home (2020)', 'Tahoe (2020)')\n",
    "# metadata['album'] = metadata.album.replace('Desert (2020)', 'Palm Springs (2020)')\n",
    "# metadata['album'] = metadata.album.replace('Roadtrip (2020)', 'Rocky Mountains (2020)')\n",
    "# metadata['album'] = metadata.album.replace('Italy v2 (2019)', 'Italy 2 (2019)')\n",
    "# metadata.album = metadata.album.str.rsplit(' ', n=1).apply(lambda x: x[0])\n",
    "# metadata = metadata.set_index(['album', 'filename'])\n",
    "metadata = metadata.sort_values('time_shot_pacific')"
   ]
  },
  {
   "cell_type": "code",
   "execution_count": 4,
   "metadata": {},
   "outputs": [],
   "source": [
    "metadata['place_id'] = metadata.id"
   ]
  },
  {
   "cell_type": "code",
   "execution_count": 5,
   "metadata": {},
   "outputs": [],
   "source": [
    "covers = {'Germany': 'https://i.imgur.com/rbmZHXf.jpg',\n",
    " 'Italy': 'https://i.imgur.com/XZ6Lz5l.jpg',\n",
    " 'Czechia': 'https://i.imgur.com/2DB7yPR.jpg',\n",
    " 'Slovenia': 'https://i.imgur.com/G2GzEPJ.jpg',\n",
    " 'Palm Springs': 'https://i.imgur.com/fdcEkox.jpg',\n",
    " 'Spain': 'https://i.imgur.com/DANYgWx.jpg',\n",
    " 'Morocco': 'https://i.imgur.com/YTDqFPU.jpg',\n",
    " 'Croatia': 'https://i.imgur.com/xvwSpqZ.jpg',\n",
    " 'Austria': 'https://i.imgur.com/ZkyFsMM.jpg',\n",
    " 'Italy 2': 'https://i.imgur.com/tPViG2v.jpg',\n",
    " 'France': 'https://i.imgur.com/5Usf1GT.jpg',\n",
    " 'England': 'https://i.imgur.com/HfAchQr.jpg',\n",
    " 'Tahoe': 'https://i.imgur.com/WDecwZB.jpg',\n",
    " 'Rocky Mountains': 'https://i.imgur.com/s8pTyWx.jpg'}\n",
    "\n",
    "\n",
    "def write_post(title, date='2020-01-01', cover=None):\n",
    "    name_str = '-'.join([x.lower() for x in title.split()])\n",
    "    filename = '{:s}-{:s}'.format(date, name_str)\n",
    "    records = metadata.loc[title].sort_values(by='time_shot')\n",
    "    post = Post(filename, title, records, cover=cover)\n",
    "    post.write()"
   ]
  },
  {
   "cell_type": "code",
   "execution_count": 7,
   "metadata": {},
   "outputs": [],
   "source": [
    "for idx, title in enumerate(metadata.index.get_level_values('album').unique()):\n",
    "    date = '2000-01-{0:02d}'.format(idx+1)\n",
    "    write_post(title, date=date, cover=covers[title])"
   ]
  },
  {
   "cell_type": "code",
   "execution_count": null,
   "metadata": {},
   "outputs": [],
   "source": []
  }
 ],
 "metadata": {
  "kernelspec": {
   "display_name": "web",
   "language": "python",
   "name": "web"
  },
  "language_info": {
   "codemirror_mode": {
    "name": "ipython",
    "version": 3
   },
   "file_extension": ".py",
   "mimetype": "text/x-python",
   "name": "python",
   "nbconvert_exporter": "python",
   "pygments_lexer": "ipython3",
   "version": "3.6.4"
  }
 },
 "nbformat": 4,
 "nbformat_minor": 2
}
