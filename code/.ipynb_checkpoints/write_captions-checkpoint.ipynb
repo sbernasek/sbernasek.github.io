{
 "cells": [
  {
   "cell_type": "code",
   "execution_count": 1,
   "metadata": {},
   "outputs": [],
   "source": [
    "from glob import glob\n",
    "from os.path import join\n",
    "import pandas as pd\n",
    "\n",
    "from modules.metadata import PhotoMetadata\n",
    "from modules.utilities import str_to_datetime\n",
    "from templating.post import Post\n",
    "\n",
    "location_data_dirpath = '../../data/locations/'\n",
    "photo_metadata_dirpath = '../../data/photo_metadata'\n",
    "pings_data_path = join(location_data_dirpath, 'pings.hdf')\n",
    "photo_metadata_path = join(photo_metadata_dirpath, 'photo_metadata.hdf')\n",
    "photo_gps_path = join(photo_metadata_dirpath, 'photo_gps.hdf')\n",
    "photo_semantic_locations_path = join(photo_metadata_dirpath, 'photo_semantic_locations.hdf')\n",
    "\n",
    "user_captions_path = join(photo_metadata_dirpath, 'user_captions.xlsx')\n",
    "user_locations_path = join(photo_metadata_dirpath, 'user_gps.xlsx')\n",
    "user_exclusions_path = join(photo_metadata_dirpath, 'user_hidden_photos.xlsx')\n",
    "\n",
    "imgur_data_path = join(photo_metadata_dirpath, 'imgur_data.hdf')\n",
    "\n",
    "%reload_ext autoreload\n",
    "%autoreload 2"
   ]
  },
  {
   "cell_type": "markdown",
   "metadata": {},
   "source": [
    "# Load photo metadata"
   ]
  },
  {
   "cell_type": "code",
   "execution_count": 2,
   "metadata": {},
   "outputs": [],
   "source": [
    "# load metadata\n",
    "photo_metadata = PhotoMetadata(photo_metadata_path)\n",
    "\n",
    "# load imgur URLs\n",
    "imgur_data = pd.read_hdf(imgur_data_path, 'data')\n",
    "\n",
    "# load photo GPS data\n",
    "photo_gps = pd.read_hdf(photo_gps_path, 'data')\n",
    "\n",
    "# load matched semantic locations\n",
    "photo_semantic_locations = pd.read_hdf(photo_semantic_locations_path, 'data')\n",
    "\n",
    "# load user-curated data\n",
    "user_captions = pd.read_excel(user_captions_path).set_index(PhotoMetadata.INDEX)\n",
    "user_locations = pd.read_excel(user_locations_path).set_index(PhotoMetadata.INDEX)\n",
    "user_exclusions = pd.read_excel(user_exclusions_path).set_index(PhotoMetadata.INDEX)"
   ]
  },
  {
   "cell_type": "markdown",
   "metadata": {},
   "source": [
    "# Generate post data"
   ]
  },
  {
   "cell_type": "code",
   "execution_count": 3,
   "metadata": {},
   "outputs": [
    {
     "name": "stderr",
     "output_type": "stream",
     "text": [
      "/Users/Sebi/.virtualenvs/web/lib/python3.6/site-packages/IPython/core/interactiveshell.py:2858: PerformanceWarning: indexing past lexsort depth may impact performance.\n",
      "  raw_cell, store_history, silent, shell_futures)\n"
     ]
    }
   ],
   "source": [
    "# append ping-based location data where GPS tag is missing\n",
    "posts = photo_metadata.data.join(photo_gps, on='timestamp', lsuffix='_native', rsuffix='_ping')\n",
    "posts['latitude'] = posts.latitude_native.fillna(posts.latitude_ping)\n",
    "posts['longitude'] = posts.longitude_native.fillna(posts.longitude_ping)\n",
    "\n",
    "# exclude unreliable pings\n",
    "max_dt_ping = 3600/8 # 15 minutes\n",
    "no_gps_data = (~posts.geotagged & (posts.dt_ping >= max_dt_ping))\n",
    "posts.loc[no_gps_data, ['latitude', 'longitude']] = float('nan')\n",
    "\n",
    "# append manually-curated captions\n",
    "posts = posts.join(user_captions)\n",
    "\n",
    "# append nearest semantic location and use it to fill missing captions\n",
    "posts = posts.join(photo_semantic_locations, how='left', rsuffix='_auto')"
   ]
  },
  {
   "cell_type": "markdown",
   "metadata": {},
   "source": [
    "# Curate captions"
   ]
  },
  {
   "cell_type": "code",
   "execution_count": 4,
   "metadata": {},
   "outputs": [],
   "source": [
    "from copy import deepcopy\n",
    "from PIL import Image\n",
    "from IPython.display import display, clear_output\n",
    "import clipboard\n",
    "\n",
    "def parse(s):\n",
    "    if s.strip() == '':\n",
    "        return clipboard.paste()\n",
    "    else:\n",
    "        return s\n",
    "\n",
    "\n",
    "def prompt(record, prefix):\n",
    "    try:\n",
    "        SUGGESTED_CAPTION = record.caption_auto    \n",
    "        if type(SUGGESTED_CAPTION) != str:\n",
    "            SUGGESTED_CAPTION = 'PLACEHOLDER_CAPTION'\n",
    "        clipboard.copy(SUGGESTED_CAPTION)\n",
    "        USER_CAPTION = parse(input(prefix + SUGGESTED_CAPTION))\n",
    "        return USER_CAPTION\n",
    "        \n",
    "    except:\n",
    "        print('Try again.')\n",
    "        return prompt(record, prefix)\n",
    "    \n",
    "    \n",
    "def GUI(record, prefix=''):\n",
    "    im = Image.open(record.path)\n",
    "    im.thumbnail((300,300))\n",
    "    display(im)\n",
    "    USER_CAPTION = prompt(record, prefix)\n",
    "    im.close()\n",
    "    clear_output()    \n",
    "    return USER_CAPTION"
   ]
  },
  {
   "cell_type": "code",
   "execution_count": 5,
   "metadata": {},
   "outputs": [],
   "source": [
    "CAPTION_DATA = deepcopy(posts)[['path', 'caption', 'caption_auto']]"
   ]
  },
  {
   "cell_type": "code",
   "execution_count": 14,
   "metadata": {},
   "outputs": [],
   "source": [
    "MISSING_CAPTIONS = CAPTION_DATA[CAPTION_DATA.caption.isna()]\n",
    "\n",
    "i = 0\n",
    "USER_RECORDS = []\n",
    "for idx, record in MISSING_CAPTIONS.iterrows():\n",
    "    \n",
    "    prefix = '{:d}/{:d} '.format(i+1, len(MISSING_CAPTIONS)) \n",
    "    \n",
    "    USER_CAPTION = GUI(record, prefix)\n",
    "    \n",
    "    album, filename, source = idx\n",
    "    USER_RECORD = dict(album=album, \n",
    "                       filename=filename, \n",
    "                       source=source, \n",
    "                       caption=USER_CAPTION)\n",
    "    \n",
    "    USER_RECORDS.append(USER_RECORD)\n",
    "    \n",
    "    i += 1\n",
    "    if i > 50:\n",
    "        break\n",
    "        \n",
    "NEW_USER_CAPTIONS = pd.DataFrame(USER_RECORDS).set_index(['album', 'filename', 'source'])\n",
    "CAPTION_DATA['caption'] = CAPTION_DATA.caption.fillna(NEW_USER_CAPTIONS.caption)"
   ]
  },
  {
   "cell_type": "code",
   "execution_count": null,
   "metadata": {},
   "outputs": [],
   "source": [
    "# save captions\n",
    "#pd.DataFrame(CAPTION_DATA.caption.to_frame().to_records()).to_excel(user_captions_path, index=False)"
   ]
  }
 ],
 "metadata": {
  "kernelspec": {
   "display_name": "web",
   "language": "python",
   "name": "web"
  },
  "language_info": {
   "codemirror_mode": {
    "name": "ipython",
    "version": 3
   },
   "file_extension": ".py",
   "mimetype": "text/x-python",
   "name": "python",
   "nbconvert_exporter": "python",
   "pygments_lexer": "ipython3",
   "version": "3.6.4"
  }
 },
 "nbformat": 4,
 "nbformat_minor": 2
}
