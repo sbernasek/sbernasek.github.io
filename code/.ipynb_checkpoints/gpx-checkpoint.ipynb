{
 "cells": [
  {
   "cell_type": "code",
   "execution_count": 10,
   "metadata": {},
   "outputs": [],
   "source": [
    "from os.path import join\n",
    "from glob import glob\n",
    "import pandas as pd\n",
    "\n",
    "from maps.activities import Activity\n",
    "\n",
    "gpx_data_dirpath = '../../data/activities/gpx'\n",
    "GPX_CACHE_PATH = '../../data/activities/cache.hdf'\n",
    "GPX_CACHE = pd.read_hdf(GPX_CACHE_PATH, 'data')\n",
    "GPX_CACHE = GPX_CACHE.set_index(['activity_id', 'timestamp'])\n",
    "GPX_METADATA_CACHE = pd.read_hdf(GPX_CACHE_PATH, 'metadata')\n",
    "activity_ids = GPX_CACHE.index.get_level_values(0).unique().values\n",
    "\n",
    "%reload_ext autoreload\n",
    "%autoreload 2"
   ]
  },
  {
   "cell_type": "code",
   "execution_count": 8,
   "metadata": {},
   "outputs": [],
   "source": [
    "# # read GPX files\n",
    "# ACTIVITIES = []\n",
    "# for gpx_path in glob(join(gpx_data_dirpath, '*.gpx')):\n",
    "#     activity = Activity.from_gpx(gpx_path)\n",
    "#     ACTIVITIES.append(activity)\n",
    "# pd.concat([x.data for x in ACTIVITIES]).reset_index().to_hdf(CACHE_PATH, 'data')\n",
    "# pd.DataFrame([x.metadata for x in ACTIVITIES]).set_index('activity_id').to_hdf(CACHE_PATH, 'metadata')"
   ]
  },
  {
   "cell_type": "code",
   "execution_count": 12,
   "metadata": {},
   "outputs": [],
   "source": [
    "for activity_id in activity_ids:\n",
    "    activity = Activity.from_cache(activity_id, GPX_CACHE, GPX_METADATA_CACHE)"
   ]
  },
  {
   "cell_type": "code",
   "execution_count": null,
   "metadata": {},
   "outputs": [],
   "source": []
  },
  {
   "cell_type": "code",
   "execution_count": null,
   "metadata": {},
   "outputs": [],
   "source": []
  },
  {
   "cell_type": "code",
   "execution_count": 9,
   "metadata": {},
   "outputs": [
    {
     "data": {
      "text/plain": [
       "array([[  39.19073928, -120.23162909],\n",
       "       [  39.19061255, -120.23165113],\n",
       "       [  39.19043276, -120.23163772],\n",
       "       ...,\n",
       "       [  39.16424543, -120.23880727],\n",
       "       [  39.16425473, -120.23880157],\n",
       "       [  39.1642616 , -120.2387983 ]])"
      ]
     },
     "execution_count": 9,
     "metadata": {},
     "output_type": "execute_result"
    }
   ],
   "source": []
  },
  {
   "cell_type": "code",
   "execution_count": 40,
   "metadata": {},
   "outputs": [],
   "source": []
  },
  {
   "cell_type": "code",
   "execution_count": 35,
   "metadata": {},
   "outputs": [],
   "source": [
    "s = 'a string ending in {:s}'"
   ]
  },
  {
   "cell_type": "code",
   "execution_count": null,
   "metadata": {},
   "outputs": [],
   "source": []
  },
  {
   "cell_type": "code",
   "execution_count": null,
   "metadata": {},
   "outputs": [],
   "source": [
    "activity_4416280244"
   ]
  },
  {
   "cell_type": "code",
   "execution_count": 70,
   "metadata": {},
   "outputs": [],
   "source": [
    "import gpxpy\n",
    "import gpxpy.gpx"
   ]
  },
  {
   "cell_type": "code",
   "execution_count": null,
   "metadata": {},
   "outputs": [],
   "source": []
  },
  {
   "cell_type": "code",
   "execution_count": null,
   "metadata": {},
   "outputs": [],
   "source": [
    "DATA = DATA.set_index(['activity_id', DATA.index])"
   ]
  },
  {
   "cell_type": "code",
   "execution_count": 313,
   "metadata": {},
   "outputs": [],
   "source": [
    "DATA.reset_index().to_hdf('../../data/activities/cache.hdf', 'data')"
   ]
  },
  {
   "cell_type": "code",
   "execution_count": 322,
   "metadata": {},
   "outputs": [
    {
     "data": {
      "text/plain": [
       "{'activity_id': 'activity_4540900576',\n",
       " 'name': 'Squaw/Alpine Skiing',\n",
       " 'type': 'resort_skiing_snowboarding_ws',\n",
       " 'centroid': (39.181591454524735, -120.25342056356179),\n",
       " 'max_speed': 18.23321990582615,\n",
       " 'moving_time': 22918.0,\n",
       " 'moving_distance': 96578.66777206682,\n",
       " 'bbox': (39.149751188233495,\n",
       "  -120.28297143056989,\n",
       "  39.200679045170546,\n",
       "  -120.22170189768076),\n",
       " 'downhill': 10654.299633789098,\n",
       " 'uphill': 10631.499584960964,\n",
       " 'start': datetime.datetime(2020, 2, 11, 17, 11, 30, tzinfo=SimpleTZ(\"Z\")),\n",
       " 'stop': datetime.datetime(2020, 2, 11, 23, 58, 22, tzinfo=SimpleTZ(\"Z\")),\n",
       " 'data':                             latitude   longitude    elevation  \\\n",
       " timestamp                                                       \n",
       " 2020-02-11 17:11:30+00:00  39.190739 -120.231629  2127.199951   \n",
       " 2020-02-11 17:11:31+00:00  39.190613 -120.231651  2135.600098   \n",
       " 2020-02-11 17:11:36+00:00  39.190433 -120.231638  2146.600098   \n",
       " 2020-02-11 17:11:39+00:00  39.190320 -120.231643  2153.399902   \n",
       " 2020-02-11 17:11:41+00:00  39.190263 -120.231659  2156.399902   \n",
       " ...                              ...         ...          ...   \n",
       " 2020-02-11 23:58:17+00:00  39.164219 -120.238835  2105.000000   \n",
       " 2020-02-11 23:58:18+00:00  39.164231 -120.238821  2104.800049   \n",
       " 2020-02-11 23:58:19+00:00  39.164245 -120.238807  2104.600098   \n",
       " 2020-02-11 23:58:20+00:00  39.164255 -120.238802  2104.399902   \n",
       " 2020-02-11 23:58:22+00:00  39.164262 -120.238798  2104.399902   \n",
       " \n",
       "                                    activity_id  \n",
       " timestamp                                       \n",
       " 2020-02-11 17:11:30+00:00  activity_4540900576  \n",
       " 2020-02-11 17:11:31+00:00  activity_4540900576  \n",
       " 2020-02-11 17:11:36+00:00  activity_4540900576  \n",
       " 2020-02-11 17:11:39+00:00  activity_4540900576  \n",
       " 2020-02-11 17:11:41+00:00  activity_4540900576  \n",
       " ...                                        ...  \n",
       " 2020-02-11 23:58:17+00:00  activity_4540900576  \n",
       " 2020-02-11 23:58:18+00:00  activity_4540900576  \n",
       " 2020-02-11 23:58:19+00:00  activity_4540900576  \n",
       " 2020-02-11 23:58:20+00:00  activity_4540900576  \n",
       " 2020-02-11 23:58:22+00:00  activity_4540900576  \n",
       " \n",
       " [6281 rows x 4 columns]}"
      ]
     },
     "execution_count": 322,
     "metadata": {},
     "output_type": "execute_result"
    }
   ],
   "source": [
    "activity.__dict__"
   ]
  },
  {
   "cell_type": "code",
   "execution_count": 317,
   "metadata": {},
   "outputs": [
    {
     "data": {
      "text/html": [
       "<div>\n",
       "<style scoped>\n",
       "    .dataframe tbody tr th:only-of-type {\n",
       "        vertical-align: middle;\n",
       "    }\n",
       "\n",
       "    .dataframe tbody tr th {\n",
       "        vertical-align: top;\n",
       "    }\n",
       "\n",
       "    .dataframe thead th {\n",
       "        text-align: right;\n",
       "    }\n",
       "</style>\n",
       "<table border=\"1\" class=\"dataframe\">\n",
       "  <thead>\n",
       "    <tr style=\"text-align: right;\">\n",
       "      <th></th>\n",
       "      <th></th>\n",
       "      <th>latitude</th>\n",
       "      <th>longitude</th>\n",
       "      <th>elevation</th>\n",
       "    </tr>\n",
       "    <tr>\n",
       "      <th>activity_id</th>\n",
       "      <th>timestamp</th>\n",
       "      <th></th>\n",
       "      <th></th>\n",
       "      <th></th>\n",
       "    </tr>\n",
       "  </thead>\n",
       "  <tbody>\n",
       "    <tr>\n",
       "      <th rowspan=\"5\" valign=\"top\">activity_4261918463</th>\n",
       "      <th>2019-11-18 01:06:15+00:00</th>\n",
       "      <td>37.941532</td>\n",
       "      <td>-122.093813</td>\n",
       "      <td>139.399994</td>\n",
       "    </tr>\n",
       "    <tr>\n",
       "      <th>2019-11-18 01:06:19+00:00</th>\n",
       "      <td>37.941444</td>\n",
       "      <td>-122.093716</td>\n",
       "      <td>141.000000</td>\n",
       "    </tr>\n",
       "    <tr>\n",
       "      <th>2019-11-18 01:06:23+00:00</th>\n",
       "      <td>37.941314</td>\n",
       "      <td>-122.093579</td>\n",
       "      <td>140.600006</td>\n",
       "    </tr>\n",
       "    <tr>\n",
       "      <th>2019-11-18 01:06:24+00:00</th>\n",
       "      <td>37.941279</td>\n",
       "      <td>-122.093550</td>\n",
       "      <td>140.000000</td>\n",
       "    </tr>\n",
       "    <tr>\n",
       "      <th>2019-11-18 01:06:25+00:00</th>\n",
       "      <td>37.941244</td>\n",
       "      <td>-122.093522</td>\n",
       "      <td>139.199997</td>\n",
       "    </tr>\n",
       "    <tr>\n",
       "      <th>...</th>\n",
       "      <th>...</th>\n",
       "      <td>...</td>\n",
       "      <td>...</td>\n",
       "      <td>...</td>\n",
       "    </tr>\n",
       "    <tr>\n",
       "      <th rowspan=\"5\" valign=\"top\">activity_4540900576</th>\n",
       "      <th>2020-02-11 23:58:17+00:00</th>\n",
       "      <td>39.164219</td>\n",
       "      <td>-120.238835</td>\n",
       "      <td>2105.000000</td>\n",
       "    </tr>\n",
       "    <tr>\n",
       "      <th>2020-02-11 23:58:18+00:00</th>\n",
       "      <td>39.164231</td>\n",
       "      <td>-120.238821</td>\n",
       "      <td>2104.800049</td>\n",
       "    </tr>\n",
       "    <tr>\n",
       "      <th>2020-02-11 23:58:19+00:00</th>\n",
       "      <td>39.164245</td>\n",
       "      <td>-120.238807</td>\n",
       "      <td>2104.600098</td>\n",
       "    </tr>\n",
       "    <tr>\n",
       "      <th>2020-02-11 23:58:20+00:00</th>\n",
       "      <td>39.164255</td>\n",
       "      <td>-120.238802</td>\n",
       "      <td>2104.399902</td>\n",
       "    </tr>\n",
       "    <tr>\n",
       "      <th>2020-02-11 23:58:22+00:00</th>\n",
       "      <td>39.164262</td>\n",
       "      <td>-120.238798</td>\n",
       "      <td>2104.399902</td>\n",
       "    </tr>\n",
       "  </tbody>\n",
       "</table>\n",
       "<p>251420 rows × 3 columns</p>\n",
       "</div>"
      ],
      "text/plain": [
       "                                                latitude   longitude  \\\n",
       "activity_id         timestamp                                          \n",
       "activity_4261918463 2019-11-18 01:06:15+00:00  37.941532 -122.093813   \n",
       "                    2019-11-18 01:06:19+00:00  37.941444 -122.093716   \n",
       "                    2019-11-18 01:06:23+00:00  37.941314 -122.093579   \n",
       "                    2019-11-18 01:06:24+00:00  37.941279 -122.093550   \n",
       "                    2019-11-18 01:06:25+00:00  37.941244 -122.093522   \n",
       "...                                                  ...         ...   \n",
       "activity_4540900576 2020-02-11 23:58:17+00:00  39.164219 -120.238835   \n",
       "                    2020-02-11 23:58:18+00:00  39.164231 -120.238821   \n",
       "                    2020-02-11 23:58:19+00:00  39.164245 -120.238807   \n",
       "                    2020-02-11 23:58:20+00:00  39.164255 -120.238802   \n",
       "                    2020-02-11 23:58:22+00:00  39.164262 -120.238798   \n",
       "\n",
       "                                                 elevation  \n",
       "activity_id         timestamp                               \n",
       "activity_4261918463 2019-11-18 01:06:15+00:00   139.399994  \n",
       "                    2019-11-18 01:06:19+00:00   141.000000  \n",
       "                    2019-11-18 01:06:23+00:00   140.600006  \n",
       "                    2019-11-18 01:06:24+00:00   140.000000  \n",
       "                    2019-11-18 01:06:25+00:00   139.199997  \n",
       "...                                                    ...  \n",
       "activity_4540900576 2020-02-11 23:58:17+00:00  2105.000000  \n",
       "                    2020-02-11 23:58:18+00:00  2104.800049  \n",
       "                    2020-02-11 23:58:19+00:00  2104.600098  \n",
       "                    2020-02-11 23:58:20+00:00  2104.399902  \n",
       "                    2020-02-11 23:58:22+00:00  2104.399902  \n",
       "\n",
       "[251420 rows x 3 columns]"
      ]
     },
     "execution_count": 317,
     "metadata": {},
     "output_type": "execute_result"
    }
   ],
   "source": []
  },
  {
   "cell_type": "code",
   "execution_count": null,
   "metadata": {},
   "outputs": [],
   "source": []
  },
  {
   "cell_type": "code",
   "execution_count": 288,
   "metadata": {},
   "outputs": [],
   "source": [
    "activity = Activity(gpx_path)"
   ]
  },
  {
   "cell_type": "code",
   "execution_count": null,
   "metadata": {},
   "outputs": [],
   "source": []
  },
  {
   "cell_type": "code",
   "execution_count": 292,
   "metadata": {},
   "outputs": [
    {
     "name": "stdout",
     "output_type": "stream",
     "text": [
      "['/4540900576', '/activity_3761656915', '/activity_3778518994', '/activity_3783068077', '/activity_3787555383', '/activity_3799553612', '/activity_3799553667', '/activity_3806111178', '/activity_3816142484', '/activity_3818831123', '/activity_3828237715', '/activity_3828238221', '/activity_3834372927', '/activity_3838250231', '/activity_3845284143', '/activity_3850823493', '/activity_3852367667', '/activity_3855882434', '/activity_3859414019', '/activity_3864673469', '/activity_3870998055', '/activity_3872055823', '/activity_3876110435', '/activity_3884765996', '/activity_3888183457', '/activity_3891593809', '/activity_3916974274', '/activity_3924205101', '/activity_3931547891', '/activity_3937208773', '/activity_4082820672', '/activity_4088081273', '/activity_4190659278', '/activity_4200632460', '/activity_4261918463', '/activity_4267782311', '/activity_4278933416', '/activity_4285026365', '/activity_4288347897', '/activity_4293045990', '/activity_4296411857', '/activity_4299317196', '/activity_4350903785', '/activity_4351113980', '/activity_4353692447', '/activity_4356492915', '/activity_4415792951', '/activity_4415798271', '/activity_4416280244', '/activity_4460576079', '/activity_4460576837', '/activity_4473629638', '/activity_4473634167', '/activity_4485565733', '/activity_4493039663', '/activity_4525162748', '/activity_4536945164', '/activity_4540900576', '/activity_4544444154', '/activity_4547675269', '/activity_4550624562', '/activity_4569654955', '/activity_4583839455', '/activity_4584398074', '/activity_4598596443', '/activity_4627421671', '/activity_4635422058', '/activity_4638472635', '/activity_4642148709', '/activity_4645920917', '/activity_4652932560', '/activity_4697376556', '/activity_4701478273', '/activity_4721799439', '/activity_4775974012', '/activity_4804075776', '/activity_4814104445', '/activity_4823828804', '/activity_4831917253', '/activity_4831917388', '/activity_4831953057', '/activity_4831961936', '/activity_4831973772', '/activity_4831982253']\n"
     ]
    }
   ],
   "source": [
    "store = pd.HDFStore('../../data/activities/cache.hdf', mode='r')\n",
    "print(store.keys())\n",
    "store.close()"
   ]
  },
  {
   "cell_type": "code",
   "execution_count": null,
   "metadata": {},
   "outputs": [],
   "source": []
  },
  {
   "cell_type": "code",
   "execution_count": null,
   "metadata": {},
   "outputs": [],
   "source": []
  },
  {
   "cell_type": "code",
   "execution_count": null,
   "metadata": {},
   "outputs": [],
   "source": []
  },
  {
   "cell_type": "code",
   "execution_count": 216,
   "metadata": {},
   "outputs": [],
   "source": [
    "gpx_path = '/Users/Sebi/Downloads/activity_4823828804.gpx'"
   ]
  },
  {
   "cell_type": "code",
   "execution_count": 217,
   "metadata": {},
   "outputs": [],
   "source": [
    "activity = Activity(gpx_path)"
   ]
  },
  {
   "cell_type": "code",
   "execution_count": 229,
   "metadata": {},
   "outputs": [
    {
     "data": {
      "text/plain": [
       "3563.0508478634097"
      ]
     },
     "execution_count": 229,
     "metadata": {},
     "output_type": "execute_result"
    }
   ],
   "source": [
    "activity.moving_distance"
   ]
  },
  {
   "cell_type": "code",
   "execution_count": null,
   "metadata": {},
   "outputs": [],
   "source": []
  },
  {
   "cell_type": "code",
   "execution_count": null,
   "metadata": {},
   "outputs": [],
   "source": []
  },
  {
   "cell_type": "code",
   "execution_count": 226,
   "metadata": {},
   "outputs": [
    {
     "data": {
      "text/plain": [
       "Timestamp('2020-04-23 01:43:21+0000', tz='SimpleTZ(\"Z\")')"
      ]
     },
     "execution_count": 226,
     "metadata": {},
     "output_type": "execute_result"
    }
   ],
   "source": [
    "activity.data.index[0]"
   ]
  },
  {
   "cell_type": "code",
   "execution_count": 222,
   "metadata": {},
   "outputs": [],
   "source": [
    "import matplotlib.pyplot as plt"
   ]
  },
  {
   "cell_type": "code",
   "execution_count": 224,
   "metadata": {},
   "outputs": [
    {
     "data": {
      "text/plain": [
       "[<matplotlib.lines.Line2D at 0x1190a7208>]"
      ]
     },
     "execution_count": 224,
     "metadata": {},
     "output_type": "execute_result"
    },
    {
     "data": {
      "image/png": "[encoded data removed]",
      "text/plain": [
       "<Figure size 432x288 with 1 Axes>"
      ]
     },
     "metadata": {
      "needs_background": "light"
     },
     "output_type": "display_data"
    }
   ],
   "source": [
    "plt.plot(activity.data.elevation)"
   ]
  },
  {
   "cell_type": "code",
   "execution_count": 228,
   "metadata": {},
   "outputs": [
    {
     "data": {
      "text/plain": [
       "'street_running'"
      ]
     },
     "execution_count": 228,
     "metadata": {},
     "output_type": "execute_result"
    }
   ],
   "source": [
    "activity.type"
   ]
  },
  {
   "cell_type": "code",
   "execution_count": null,
   "metadata": {},
   "outputs": [],
   "source": []
  },
  {
   "cell_type": "code",
   "execution_count": 36,
   "metadata": {},
   "outputs": [],
   "source": [
    "src_file = '/Users/Sebi/Downloads/activity_4823828804.fit'"
   ]
  },
  {
   "cell_type": "code",
   "execution_count": 55,
   "metadata": {},
   "outputs": [
    {
     "name": "stdout",
     "output_type": "stream",
     "text": [
      "file_id\n",
      "file_creator\n",
      "unknown_288\n",
      "unknown_327\n",
      "event\n",
      "device_info\n",
      "device_info\n",
      "device_info\n",
      "device_info\n",
      "device_info\n",
      "unknown_22\n",
      "unknown_141\n",
      "device_settings\n",
      "user_profile\n",
      "unknown_147\n",
      "unknown_326\n",
      "unknown_79\n",
      "sport\n",
      "unknown_13\n",
      "zones_target\n",
      "record\n"
     ]
    }
   ],
   "source": [
    "import fitdecode\n",
    "\n",
    "with fitdecode.FitReader(src_file) as fit:\n",
    "    for frame in fit:\n",
    "        # The yielded frame object is of one of the following types:\n",
    "        # * fitdecode.FitHeader\n",
    "        # * fitdecode.FitDefinitionMessage\n",
    "        # * fitdecode.FitDataMessage\n",
    "        # * fitdecode.FitCRC\n",
    "\n",
    "        if isinstance(frame, fitdecode.FitDataMessage):\n",
    "            # Here, frame is a FitDataMessage object.\n",
    "            # A FitDataMessage object contains decoded values that\n",
    "            # are directly usable in your script logic.\n",
    "            print(frame.name)\n",
    "            if frame.name == 'record':\n",
    "                break"
   ]
  },
  {
   "cell_type": "code",
   "execution_count": 77,
   "metadata": {},
   "outputs": [],
   "source": [
    "x=frame.get_values(('position_lat', 'position_long'))"
   ]
  },
  {
   "cell_type": "code",
   "execution_count": 16,
   "metadata": {},
   "outputs": [],
   "source": [
    "from folium import Vega"
   ]
  },
  {
   "cell_type": "code",
   "execution_count": null,
   "metadata": {},
   "outputs": [],
   "source": []
  },
  {
   "cell_type": "code",
   "execution_count": 40,
   "metadata": {},
   "outputs": [
    {
     "data": {
      "text/plain": [
       "timestamp\n",
       "2020-02-11 17:11:00+00:00    2158.618186\n",
       "2020-02-11 17:12:00+00:00    2161.771397\n",
       "2020-02-11 17:13:00+00:00    2160.449982\n",
       "2020-02-11 17:14:00+00:00    2134.257173\n",
       "2020-02-11 17:15:00+00:00    2032.929042\n",
       "                                ...     \n",
       "2020-02-11 23:54:00+00:00    2496.791667\n",
       "2020-02-11 23:55:00+00:00    2386.968416\n",
       "2020-02-11 23:56:00+00:00    2190.729020\n",
       "2020-02-11 23:57:00+00:00    2123.496293\n",
       "2020-02-11 23:58:00+00:00    2105.019971\n",
       "Freq: T, Name: elevation, Length: 408, dtype: float64"
      ]
     },
     "execution_count": 40,
     "metadata": {},
     "output_type": "execute_result"
    }
   ],
   "source": [
    "DF.elevation"
   ]
  },
  {
   "cell_type": "code",
   "execution_count": 41,
   "metadata": {},
   "outputs": [],
   "source": []
  },
  {
   "cell_type": "code",
   "execution_count": 59,
   "metadata": {},
   "outputs": [
    {
     "name": "stdout",
     "output_type": "stream",
     "text": [
      "timestamp\n",
      "position_lat\n",
      "position_long\n",
      "distance\n",
      "enhanced_speed\n",
      "enhanced_altitude\n",
      "unknown_87\n",
      "unknown_88\n",
      "heart_rate\n",
      "cadence\n",
      "fractional_cadence\n"
     ]
    }
   ],
   "source": []
  },
  {
   "cell_type": "code",
   "execution_count": 57,
   "metadata": {},
   "outputs": [
    {
     "data": {
      "text/plain": [
       "'fractional_cadence'"
      ]
     },
     "execution_count": 57,
     "metadata": {},
     "output_type": "execute_result"
    }
   ],
   "source": [
    "field.name"
   ]
  },
  {
   "cell_type": "code",
   "execution_count": 7,
   "metadata": {},
   "outputs": [],
   "source": [
    "fitfile = FitFile(p)"
   ]
  },
  {
   "cell_type": "code",
   "execution_count": 24,
   "metadata": {},
   "outputs": [],
   "source": [
    "import pandas as pd"
   ]
  },
  {
   "cell_type": "code",
   "execution_count": 25,
   "metadata": {},
   "outputs": [],
   "source": [
    "data = pd.DataFrame([{y.name: y.value for y in x} for x in fitfile.get_messages('record')])"
   ]
  },
  {
   "cell_type": "code",
   "execution_count": null,
   "metadata": {},
   "outputs": [],
   "source": []
  },
  {
   "cell_type": "code",
   "execution_count": null,
   "metadata": {},
   "outputs": [],
   "source": []
  },
  {
   "cell_type": "code",
   "execution_count": 33,
   "metadata": {},
   "outputs": [
    {
     "data": {
      "text/plain": [
       "{'cadence': 'rpm',\n",
       " 'distance': 'm',\n",
       " 'enhanced_altitude': 'm',\n",
       " 'enhanced_speed': 'm/s',\n",
       " 'fractional_cadence': 'rpm',\n",
       " 'heart_rate': 'bpm',\n",
       " 'position_lat': 'semicircles',\n",
       " 'position_long': 'semicircles',\n",
       " 'timestamp': None,\n",
       " 'unknown_87': None,\n",
       " 'unknown_88': None}"
      ]
     },
     "execution_count": 33,
     "metadata": {},
     "output_type": "execute_result"
    }
   ],
   "source": [
    "{x.name: x.units for x in list(fitfile.get_messages('record'))[0]}"
   ]
  },
  {
   "cell_type": "code",
   "execution_count": 26,
   "metadata": {},
   "outputs": [
    {
     "data": {
      "text/html": [
       "<div>\n",
       "<style scoped>\n",
       "    .dataframe tbody tr th:only-of-type {\n",
       "        vertical-align: middle;\n",
       "    }\n",
       "\n",
       "    .dataframe tbody tr th {\n",
       "        vertical-align: top;\n",
       "    }\n",
       "\n",
       "    .dataframe thead th {\n",
       "        text-align: right;\n",
       "    }\n",
       "</style>\n",
       "<table border=\"1\" class=\"dataframe\">\n",
       "  <thead>\n",
       "    <tr style=\"text-align: right;\">\n",
       "      <th></th>\n",
       "      <th>cadence</th>\n",
       "      <th>distance</th>\n",
       "      <th>enhanced_altitude</th>\n",
       "      <th>enhanced_speed</th>\n",
       "      <th>fractional_cadence</th>\n",
       "      <th>heart_rate</th>\n",
       "      <th>position_lat</th>\n",
       "      <th>position_long</th>\n",
       "      <th>timestamp</th>\n",
       "      <th>unknown_87</th>\n",
       "      <th>unknown_88</th>\n",
       "      <th>unknown_90</th>\n",
       "    </tr>\n",
       "  </thead>\n",
       "  <tbody>\n",
       "    <tr>\n",
       "      <th>0</th>\n",
       "      <td>56</td>\n",
       "      <td>0.00</td>\n",
       "      <td>137.8</td>\n",
       "      <td>4.973</td>\n",
       "      <td>0.0</td>\n",
       "      <td>98</td>\n",
       "      <td>452658246</td>\n",
       "      <td>-1456633379</td>\n",
       "      <td>2020-04-23 01:43:21</td>\n",
       "      <td>0</td>\n",
       "      <td>300</td>\n",
       "      <td>NaN</td>\n",
       "    </tr>\n",
       "    <tr>\n",
       "      <th>1</th>\n",
       "      <td>56</td>\n",
       "      <td>1.45</td>\n",
       "      <td>137.6</td>\n",
       "      <td>2.109</td>\n",
       "      <td>0.0</td>\n",
       "      <td>98</td>\n",
       "      <td>452658115</td>\n",
       "      <td>-1456633268</td>\n",
       "      <td>2020-04-23 01:43:22</td>\n",
       "      <td>0</td>\n",
       "      <td>300</td>\n",
       "      <td>NaN</td>\n",
       "    </tr>\n",
       "    <tr>\n",
       "      <th>2</th>\n",
       "      <td>81</td>\n",
       "      <td>14.21</td>\n",
       "      <td>137.0</td>\n",
       "      <td>3.154</td>\n",
       "      <td>0.0</td>\n",
       "      <td>96</td>\n",
       "      <td>452656920</td>\n",
       "      <td>-1456632422</td>\n",
       "      <td>2020-04-23 01:43:26</td>\n",
       "      <td>0</td>\n",
       "      <td>300</td>\n",
       "      <td>NaN</td>\n",
       "    </tr>\n",
       "    <tr>\n",
       "      <th>3</th>\n",
       "      <td>86</td>\n",
       "      <td>29.39</td>\n",
       "      <td>136.4</td>\n",
       "      <td>4.161</td>\n",
       "      <td>0.0</td>\n",
       "      <td>99</td>\n",
       "      <td>452655504</td>\n",
       "      <td>-1456631402</td>\n",
       "      <td>2020-04-23 01:43:29</td>\n",
       "      <td>0</td>\n",
       "      <td>300</td>\n",
       "      <td>NaN</td>\n",
       "    </tr>\n",
       "    <tr>\n",
       "      <th>4</th>\n",
       "      <td>86</td>\n",
       "      <td>34.75</td>\n",
       "      <td>136.0</td>\n",
       "      <td>4.245</td>\n",
       "      <td>0.0</td>\n",
       "      <td>102</td>\n",
       "      <td>452655003</td>\n",
       "      <td>-1456631039</td>\n",
       "      <td>2020-04-23 01:43:30</td>\n",
       "      <td>0</td>\n",
       "      <td>300</td>\n",
       "      <td>NaN</td>\n",
       "    </tr>\n",
       "    <tr>\n",
       "      <th>...</th>\n",
       "      <td>...</td>\n",
       "      <td>...</td>\n",
       "      <td>...</td>\n",
       "      <td>...</td>\n",
       "      <td>...</td>\n",
       "      <td>...</td>\n",
       "      <td>...</td>\n",
       "      <td>...</td>\n",
       "      <td>...</td>\n",
       "      <td>...</td>\n",
       "      <td>...</td>\n",
       "      <td>...</td>\n",
       "    </tr>\n",
       "    <tr>\n",
       "      <th>251</th>\n",
       "      <td>83</td>\n",
       "      <td>3501.44</td>\n",
       "      <td>121.6</td>\n",
       "      <td>3.742</td>\n",
       "      <td>0.5</td>\n",
       "      <td>166</td>\n",
       "      <td>452653022</td>\n",
       "      <td>-1456632513</td>\n",
       "      <td>2020-04-23 01:59:42</td>\n",
       "      <td>130</td>\n",
       "      <td>100</td>\n",
       "      <td>0.0</td>\n",
       "    </tr>\n",
       "    <tr>\n",
       "      <th>252</th>\n",
       "      <td>87</td>\n",
       "      <td>3509.64</td>\n",
       "      <td>121.4</td>\n",
       "      <td>4.087</td>\n",
       "      <td>0.0</td>\n",
       "      <td>166</td>\n",
       "      <td>452653822</td>\n",
       "      <td>-1456632981</td>\n",
       "      <td>2020-04-23 01:59:44</td>\n",
       "      <td>130</td>\n",
       "      <td>100</td>\n",
       "      <td>0.0</td>\n",
       "    </tr>\n",
       "    <tr>\n",
       "      <th>253</th>\n",
       "      <td>87</td>\n",
       "      <td>3524.31</td>\n",
       "      <td>121.4</td>\n",
       "      <td>4.273</td>\n",
       "      <td>0.0</td>\n",
       "      <td>163</td>\n",
       "      <td>452655258</td>\n",
       "      <td>-1456633804</td>\n",
       "      <td>2020-04-23 01:59:47</td>\n",
       "      <td>130</td>\n",
       "      <td>300</td>\n",
       "      <td>0.0</td>\n",
       "    </tr>\n",
       "    <tr>\n",
       "      <th>254</th>\n",
       "      <td>88</td>\n",
       "      <td>3545.29</td>\n",
       "      <td>121.6</td>\n",
       "      <td>4.217</td>\n",
       "      <td>0.5</td>\n",
       "      <td>166</td>\n",
       "      <td>452657205</td>\n",
       "      <td>-1456635238</td>\n",
       "      <td>2020-04-23 01:59:52</td>\n",
       "      <td>130</td>\n",
       "      <td>100</td>\n",
       "      <td>0.0</td>\n",
       "    </tr>\n",
       "    <tr>\n",
       "      <th>255</th>\n",
       "      <td>87</td>\n",
       "      <td>3552.09</td>\n",
       "      <td>122.2</td>\n",
       "      <td>4.217</td>\n",
       "      <td>0.0</td>\n",
       "      <td>164</td>\n",
       "      <td>452657822</td>\n",
       "      <td>-1456635743</td>\n",
       "      <td>2020-04-23 01:59:54</td>\n",
       "      <td>130</td>\n",
       "      <td>100</td>\n",
       "      <td>0.0</td>\n",
       "    </tr>\n",
       "  </tbody>\n",
       "</table>\n",
       "<p>256 rows × 12 columns</p>\n",
       "</div>"
      ],
      "text/plain": [
       "     cadence  distance  enhanced_altitude  enhanced_speed  fractional_cadence  \\\n",
       "0         56      0.00              137.8           4.973                 0.0   \n",
       "1         56      1.45              137.6           2.109                 0.0   \n",
       "2         81     14.21              137.0           3.154                 0.0   \n",
       "3         86     29.39              136.4           4.161                 0.0   \n",
       "4         86     34.75              136.0           4.245                 0.0   \n",
       "..       ...       ...                ...             ...                 ...   \n",
       "251       83   3501.44              121.6           3.742                 0.5   \n",
       "252       87   3509.64              121.4           4.087                 0.0   \n",
       "253       87   3524.31              121.4           4.273                 0.0   \n",
       "254       88   3545.29              121.6           4.217                 0.5   \n",
       "255       87   3552.09              122.2           4.217                 0.0   \n",
       "\n",
       "     heart_rate  position_lat  position_long           timestamp  unknown_87  \\\n",
       "0            98     452658246    -1456633379 2020-04-23 01:43:21           0   \n",
       "1            98     452658115    -1456633268 2020-04-23 01:43:22           0   \n",
       "2            96     452656920    -1456632422 2020-04-23 01:43:26           0   \n",
       "3            99     452655504    -1456631402 2020-04-23 01:43:29           0   \n",
       "4           102     452655003    -1456631039 2020-04-23 01:43:30           0   \n",
       "..          ...           ...            ...                 ...         ...   \n",
       "251         166     452653022    -1456632513 2020-04-23 01:59:42         130   \n",
       "252         166     452653822    -1456632981 2020-04-23 01:59:44         130   \n",
       "253         163     452655258    -1456633804 2020-04-23 01:59:47         130   \n",
       "254         166     452657205    -1456635238 2020-04-23 01:59:52         130   \n",
       "255         164     452657822    -1456635743 2020-04-23 01:59:54         130   \n",
       "\n",
       "     unknown_88  unknown_90  \n",
       "0           300         NaN  \n",
       "1           300         NaN  \n",
       "2           300         NaN  \n",
       "3           300         NaN  \n",
       "4           300         NaN  \n",
       "..          ...         ...  \n",
       "251         100         0.0  \n",
       "252         100         0.0  \n",
       "253         300         0.0  \n",
       "254         100         0.0  \n",
       "255         100         0.0  \n",
       "\n",
       "[256 rows x 12 columns]"
      ]
     },
     "execution_count": 26,
     "metadata": {},
     "output_type": "execute_result"
    }
   ],
   "source": [
    "data"
   ]
  },
  {
   "cell_type": "code",
   "execution_count": 13,
   "metadata": {},
   "outputs": [
    {
     "data": {
      "text/plain": [
       "'rpm'"
      ]
     },
     "execution_count": 13,
     "metadata": {},
     "output_type": "execute_result"
    }
   ],
   "source": [
    "record_data.units"
   ]
  },
  {
   "cell_type": "code",
   "execution_count": null,
   "metadata": {},
   "outputs": [],
   "source": [
    "record_data.name, record_data.value, record_data.units"
   ]
  },
  {
   "cell_type": "code",
   "execution_count": null,
   "metadata": {},
   "outputs": [],
   "source": []
  },
  {
   "cell_type": "code",
   "execution_count": 4,
   "metadata": {},
   "outputs": [],
   "source": [
    "from fitparse import FitFile"
   ]
  },
  {
   "cell_type": "code",
   "execution_count": null,
   "metadata": {},
   "outputs": [],
   "source": [
    "from fitparse import FitFile\n",
    "\n",
    "\n",
    "fitfile = FitFile('/home/dave/garmin-activities/2012-12-19-16-14-54.fit')\n",
    "\n",
    "# Get all data messages that are of type record\n",
    "for record in fitfile.get_messages('record'):\n",
    "\n",
    "    # Go through all the data entries in this record\n",
    "    for record_data in record:\n",
    "\n",
    "        # Print the records name and value (and units if it has any)\n",
    "        if record_data.units:\n",
    "            print \" * %s: %s %s\" % (\n",
    "                record_data.name, record_data.value, record_data.units,\n",
    "            )\n",
    "        else:\n",
    "            print \" * %s: %s\" % (record_data.name, record_data.value)\n",
    "    print"
   ]
  }
 ],
 "metadata": {
  "kernelspec": {
   "display_name": "web",
   "language": "python",
   "name": "web"
  },
  "language_info": {
   "codemirror_mode": {
    "name": "ipython",
    "version": 3
   },
   "file_extension": ".py",
   "mimetype": "text/x-python",
   "name": "python",
   "nbconvert_exporter": "python",
   "pygments_lexer": "ipython3",
   "version": "3.6.4"
  }
 },
 "nbformat": 4,
 "nbformat_minor": 4
}
